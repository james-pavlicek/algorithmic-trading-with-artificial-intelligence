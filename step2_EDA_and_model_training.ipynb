{
 "cells": [
  {
   "cell_type": "markdown",
   "metadata": {},
   "source": [
    "# Exploratory Data Analysis, Data Cleaning, and Model Trainging"
   ]
  },
  {
   "cell_type": "markdown",
   "metadata": {
    "jp-MarkdownHeadingCollapsed": true
   },
   "source": [
    "Welcome to the 2nd part of Utilizing Artificial Intelligence for Algorithmic Trading.\n",
    "For this part we will be exploring the dataset built in part 1. The code for building that data set can be found in the github.\n",
    "In adition the dataset from part 1 can be found here https://drive.google.com/file/d/1HjMQ32Yu7fFwiT9b92vE60n3WDfikUsa/view?usp=drive_link.\n",
    "After exploring our data we then move on to cleaning and model training. \n",
    "In the notebook we also exported our models as .joblib files to be used in our model testing, meta-models, and final streamlit web app.\n",
    "\n",
    "This code has been built for a large scale research project for Texas State University.\n",
    "The research for the project has been conducted by James Pavlicek, Jack Burt, and Andrew Hocher.\n",
    "If you have any questions or inquiries feel free to reach out to me at https://www.jamespavlicek.com/ \n",
    "This code is free use and anyone can use it."
   ]
  },
  {
   "cell_type": "markdown",
   "metadata": {},
   "source": [
    "## Libraries"
   ]
  },
  {
   "cell_type": "code",
   "execution_count": 1,
   "metadata": {},
   "outputs": [
    {
     "name": "stderr",
     "output_type": "stream",
     "text": [
      "[nltk_data] Downloading package wordnet to\n",
      "[nltk_data]     /Users/jamespavlicek/nltk_data...\n",
      "[nltk_data]   Package wordnet is already up-to-date!\n",
      "[nltk_data] Downloading package stopwords to\n",
      "[nltk_data]     /Users/jamespavlicek/nltk_data...\n",
      "[nltk_data]   Package stopwords is already up-to-date!\n",
      "[nltk_data] Downloading package punkt to\n",
      "[nltk_data]     /Users/jamespavlicek/nltk_data...\n",
      "[nltk_data]   Package punkt is already up-to-date!\n",
      "[nltk_data] Downloading package words to\n",
      "[nltk_data]     /Users/jamespavlicek/nltk_data...\n",
      "[nltk_data]   Package words is already up-to-date!\n"
     ]
    },
    {
     "data": {
      "text/plain": [
       "True"
      ]
     },
     "execution_count": 1,
     "metadata": {},
     "output_type": "execute_result"
    }
   ],
   "source": [
    "import warnings\n",
    "warnings.filterwarnings(\"ignore\")\n",
    "\n",
    "import re\n",
    "import numpy as np \n",
    "import pandas as pd \n",
    "import nltk \n",
    "\n",
    "from nltk.corpus import stopwords  \n",
    "from nltk.stem import PorterStemmer\n",
    "from nltk.tokenize import word_tokenize\n",
    "\n",
    "from sklearn.feature_extraction.text import CountVectorizer \n",
    "from sklearn.feature_extraction.text import TfidfVectorizer \n",
    "\n",
    "import re, string, unicodedata \n",
    "import contractions \n",
    "from bs4 import BeautifulSoup\n",
    "\n",
    "import numpy as np \n",
    "import pandas as pd \n",
    "import nltk \n",
    "\n",
    "from nltk.corpus import stopwords\n",
    "from nltk.tokenize import word_tokenize, sent_tokenize \n",
    "from nltk.stem.wordnet import WordNetLemmatizer \n",
    "import matplotlib.pyplot as plt\n",
    "from sklearn.model_selection import KFold, StratifiedKFold, cross_val_score\n",
    "from sklearn.metrics import accuracy_score\n",
    "import seaborn as sns\n",
    "\n",
    "from sklearn.ensemble import RandomForestClassifier \n",
    "from sklearn.metrics import classification_report \n",
    "from sklearn.model_selection import cross_val_score\n",
    "from sklearn.metrics import confusion_matrix\n",
    "\n",
    "from joblib import dump\n",
    "\n",
    "nltk.download(\"wordnet\")\n",
    "nltk.download('stopwords')\n",
    "nltk.download('punkt')\n",
    "nltk.download(\"words\")"
   ]
  },
  {
   "cell_type": "code",
   "execution_count": 2,
   "metadata": {},
   "outputs": [],
   "source": [
    "# Used to bypass image export issues found on MacOS.\n",
    "#import matplotlib  \n",
    "#matplotlib.use('Qt5Agg')\n",
    "#from matplotlib import pyplot as plt"
   ]
  },
  {
   "cell_type": "markdown",
   "metadata": {},
   "source": [
    "## Read Dataset"
   ]
  },
  {
   "cell_type": "code",
   "execution_count": 4,
   "metadata": {},
   "outputs": [],
   "source": [
    "df = pd.read_csv(\"/Users/jamespavlicek/Desktop/QMST/4320/Project Final/Final_dataset.csv\")\n"
   ]
  },
  {
   "cell_type": "markdown",
   "metadata": {},
   "source": [
    "## Split to Training and Testing Datasets"
   ]
  },
  {
   "cell_type": "code",
   "execution_count": 5,
   "metadata": {},
   "outputs": [],
   "source": [
    "from sklearn.model_selection import train_test_split\n",
    "\n",
    "df, test_data = train_test_split(df, test_size=0.25, random_state=42)\n",
    "test_data.to_csv(\"/Users/jamespavlicek/Desktop/QMST/4320/Project Final/test_data.csv\", index=False)\n",
    "del test_data"
   ]
  },
  {
   "cell_type": "markdown",
   "metadata": {},
   "source": [
    "## Data Summary"
   ]
  },
  {
   "cell_type": "code",
   "execution_count": 6,
   "metadata": {},
   "outputs": [
    {
     "data": {
      "text/plain": [
       "(18243, 9)"
      ]
     },
     "execution_count": 6,
     "metadata": {},
     "output_type": "execute_result"
    }
   ],
   "source": [
    "df.shape"
   ]
  },
  {
   "cell_type": "code",
   "execution_count": 7,
   "metadata": {},
   "outputs": [
    {
     "name": "stdout",
     "output_type": "stream",
     "text": [
      "There are 18243 rows and 9 columns.\n"
     ]
    }
   ],
   "source": [
    "print(f\"There are {df.shape[0]} rows and {df.shape[1]} columns.\")"
   ]
  },
  {
   "cell_type": "code",
   "execution_count": 8,
   "metadata": {},
   "outputs": [
    {
     "data": {
      "text/html": [
       "<div>\n",
       "<style scoped>\n",
       "    .dataframe tbody tr th:only-of-type {\n",
       "        vertical-align: middle;\n",
       "    }\n",
       "\n",
       "    .dataframe tbody tr th {\n",
       "        vertical-align: top;\n",
       "    }\n",
       "\n",
       "    .dataframe thead th {\n",
       "        text-align: right;\n",
       "    }\n",
       "</style>\n",
       "<table border=\"1\" class=\"dataframe\">\n",
       "  <thead>\n",
       "    <tr style=\"text-align: right;\">\n",
       "      <th></th>\n",
       "      <th>Filename</th>\n",
       "      <th>Company Name</th>\n",
       "      <th>Filed As Of Date</th>\n",
       "      <th>Central Index Key</th>\n",
       "      <th>Standard Industrial Classification</th>\n",
       "      <th>Largest Text</th>\n",
       "      <th>Ticker</th>\n",
       "      <th>Percent Change (1 Week)</th>\n",
       "      <th>Return Type</th>\n",
       "    </tr>\n",
       "  </thead>\n",
       "  <tbody>\n",
       "    <tr>\n",
       "      <th>5195</th>\n",
       "      <td>20110523_10-K_edgar_data_1023731_0001136261-11...</td>\n",
       "      <td>8x8 inc /de/</td>\n",
       "      <td>20110523</td>\n",
       "      <td>1023731</td>\n",
       "      <td>telephone communications (no radio telephone) ...</td>\n",
       "      <td>item 7. management's discussion and analysis o...</td>\n",
       "      <td>EGHT</td>\n",
       "      <td>0.180887</td>\n",
       "      <td>Positive</td>\n",
       "    </tr>\n",
       "    <tr>\n",
       "      <th>24009</th>\n",
       "      <td>20230403_10-K_edgar_data_793306_0001654954-23-...</td>\n",
       "      <td>blue dolphin energy co</td>\n",
       "      <td>20230403</td>\n",
       "      <td>793306</td>\n",
       "      <td>crude petroleum &amp; natural gas [1311]</td>\n",
       "      <td>item 7. management s discussion and analysis o...</td>\n",
       "      <td>BDCO</td>\n",
       "      <td>0.033058</td>\n",
       "      <td>Positive</td>\n",
       "    </tr>\n",
       "    <tr>\n",
       "      <th>18299</th>\n",
       "      <td>20210208_10-K_edgar_data_872589_0001804220-21-...</td>\n",
       "      <td>regeneron pharmaceuticals, inc.</td>\n",
       "      <td>20210208</td>\n",
       "      <td>872589</td>\n",
       "      <td>pharmaceutical preparations [2834]</td>\n",
       "      <td>item 7. management's discussion and analysis o...</td>\n",
       "      <td>REGN</td>\n",
       "      <td>-0.018751</td>\n",
       "      <td>Negative</td>\n",
       "    </tr>\n",
       "    <tr>\n",
       "      <th>2129</th>\n",
       "      <td>20060315_10-K_edgar_data_1090425_0000950134-06...</td>\n",
       "      <td>lamar advertising co/new</td>\n",
       "      <td>20060315</td>\n",
       "      <td>1090425</td>\n",
       "      <td>services-advertising agencies [7311]</td>\n",
       "      <td>item 7. management s discussion and analysis o...</td>\n",
       "      <td>LAMR</td>\n",
       "      <td>0.008754</td>\n",
       "      <td>Positive</td>\n",
       "    </tr>\n",
       "    <tr>\n",
       "      <th>2414</th>\n",
       "      <td>20061129_10-K_edgar_data_67887_0000950152-06-0...</td>\n",
       "      <td>moog inc</td>\n",
       "      <td>20061129</td>\n",
       "      <td>67887</td>\n",
       "      <td>misc industrial &amp; commercial machinery &amp; equip...</td>\n",
       "      <td>item 7. management s discussion and analysis o...</td>\n",
       "      <td>MOG-A</td>\n",
       "      <td>0.015476</td>\n",
       "      <td>Positive</td>\n",
       "    </tr>\n",
       "  </tbody>\n",
       "</table>\n",
       "</div>"
      ],
      "text/plain": [
       "                                                Filename  \\\n",
       "5195   20110523_10-K_edgar_data_1023731_0001136261-11...   \n",
       "24009  20230403_10-K_edgar_data_793306_0001654954-23-...   \n",
       "18299  20210208_10-K_edgar_data_872589_0001804220-21-...   \n",
       "2129   20060315_10-K_edgar_data_1090425_0000950134-06...   \n",
       "2414   20061129_10-K_edgar_data_67887_0000950152-06-0...   \n",
       "\n",
       "                          Company Name  Filed As Of Date  Central Index Key  \\\n",
       "5195                      8x8 inc /de/          20110523            1023731   \n",
       "24009           blue dolphin energy co          20230403             793306   \n",
       "18299  regeneron pharmaceuticals, inc.          20210208             872589   \n",
       "2129          lamar advertising co/new          20060315            1090425   \n",
       "2414                          moog inc          20061129              67887   \n",
       "\n",
       "                      Standard Industrial Classification  \\\n",
       "5195   telephone communications (no radio telephone) ...   \n",
       "24009               crude petroleum & natural gas [1311]   \n",
       "18299                 pharmaceutical preparations [2834]   \n",
       "2129                services-advertising agencies [7311]   \n",
       "2414   misc industrial & commercial machinery & equip...   \n",
       "\n",
       "                                            Largest Text Ticker  \\\n",
       "5195   item 7. management's discussion and analysis o...   EGHT   \n",
       "24009  item 7. management s discussion and analysis o...   BDCO   \n",
       "18299  item 7. management's discussion and analysis o...   REGN   \n",
       "2129   item 7. management s discussion and analysis o...   LAMR   \n",
       "2414   item 7. management s discussion and analysis o...  MOG-A   \n",
       "\n",
       "       Percent Change (1 Week) Return Type  \n",
       "5195                  0.180887    Positive  \n",
       "24009                 0.033058    Positive  \n",
       "18299                -0.018751    Negative  \n",
       "2129                  0.008754    Positive  \n",
       "2414                  0.015476    Positive  "
      ]
     },
     "execution_count": 8,
     "metadata": {},
     "output_type": "execute_result"
    }
   ],
   "source": [
    "df.head()"
   ]
  },
  {
   "cell_type": "code",
   "execution_count": 9,
   "metadata": {},
   "outputs": [
    {
     "data": {
      "text/html": [
       "<div>\n",
       "<style scoped>\n",
       "    .dataframe tbody tr th:only-of-type {\n",
       "        vertical-align: middle;\n",
       "    }\n",
       "\n",
       "    .dataframe tbody tr th {\n",
       "        vertical-align: top;\n",
       "    }\n",
       "\n",
       "    .dataframe thead th {\n",
       "        text-align: right;\n",
       "    }\n",
       "</style>\n",
       "<table border=\"1\" class=\"dataframe\">\n",
       "  <thead>\n",
       "    <tr style=\"text-align: right;\">\n",
       "      <th></th>\n",
       "      <th>Filename</th>\n",
       "      <th>Company Name</th>\n",
       "      <th>Filed As Of Date</th>\n",
       "      <th>Central Index Key</th>\n",
       "      <th>Standard Industrial Classification</th>\n",
       "      <th>Largest Text</th>\n",
       "      <th>Ticker</th>\n",
       "      <th>Percent Change (1 Week)</th>\n",
       "      <th>Return Type</th>\n",
       "    </tr>\n",
       "  </thead>\n",
       "  <tbody>\n",
       "    <tr>\n",
       "      <th>21575</th>\n",
       "      <td>20230223_10-K_edgar_data_914208_0000914208-23-...</td>\n",
       "      <td>invesco ltd.</td>\n",
       "      <td>20230223</td>\n",
       "      <td>914208</td>\n",
       "      <td>investment advice [6282]</td>\n",
       "      <td>item 7. management's discussion and analysis o...</td>\n",
       "      <td>IVZ</td>\n",
       "      <td>-0.011837</td>\n",
       "      <td>Negative</td>\n",
       "    </tr>\n",
       "    <tr>\n",
       "      <th>5390</th>\n",
       "      <td>20120229_10-K_edgar_data_203596_0001193125-12-...</td>\n",
       "      <td>wesbanco inc</td>\n",
       "      <td>20120229</td>\n",
       "      <td>203596</td>\n",
       "      <td>national commercial banks [6021]</td>\n",
       "      <td>item 7. management s discussion and analysis o...</td>\n",
       "      <td>WSBC</td>\n",
       "      <td>-0.036410</td>\n",
       "      <td>Negative</td>\n",
       "    </tr>\n",
       "    <tr>\n",
       "      <th>860</th>\n",
       "      <td>20030311_10-K_edgar_data_728535_0001104659-03-...</td>\n",
       "      <td>hunt j b transport services inc</td>\n",
       "      <td>20030311</td>\n",
       "      <td>728535</td>\n",
       "      <td>trucking (no local) [4213]</td>\n",
       "      <td>item 7. management s discussion and analysis o...</td>\n",
       "      <td>JBHT</td>\n",
       "      <td>0.133758</td>\n",
       "      <td>Positive</td>\n",
       "    </tr>\n",
       "    <tr>\n",
       "      <th>15795</th>\n",
       "      <td>20200326_10-K_edgar_data_1394056_0001564590-20...</td>\n",
       "      <td>one stop systems, inc.</td>\n",
       "      <td>20200326</td>\n",
       "      <td>1394056</td>\n",
       "      <td>electronic computers [3571]</td>\n",
       "      <td>item 7. management s discussion and analysis o...</td>\n",
       "      <td>OSS</td>\n",
       "      <td>-0.068966</td>\n",
       "      <td>Negative</td>\n",
       "    </tr>\n",
       "    <tr>\n",
       "      <th>23654</th>\n",
       "      <td>20230222_10-K_edgar_data_895126_0000895126-23-...</td>\n",
       "      <td>chesapeake energy corp</td>\n",
       "      <td>20230222</td>\n",
       "      <td>895126</td>\n",
       "      <td>crude petroleum &amp; natural gas [1311]</td>\n",
       "      <td>item 7. management s discussion and analysis o...</td>\n",
       "      <td>CHK</td>\n",
       "      <td>0.013927</td>\n",
       "      <td>Positive</td>\n",
       "    </tr>\n",
       "  </tbody>\n",
       "</table>\n",
       "</div>"
      ],
      "text/plain": [
       "                                                Filename  \\\n",
       "21575  20230223_10-K_edgar_data_914208_0000914208-23-...   \n",
       "5390   20120229_10-K_edgar_data_203596_0001193125-12-...   \n",
       "860    20030311_10-K_edgar_data_728535_0001104659-03-...   \n",
       "15795  20200326_10-K_edgar_data_1394056_0001564590-20...   \n",
       "23654  20230222_10-K_edgar_data_895126_0000895126-23-...   \n",
       "\n",
       "                          Company Name  Filed As Of Date  Central Index Key  \\\n",
       "21575                     invesco ltd.          20230223             914208   \n",
       "5390                      wesbanco inc          20120229             203596   \n",
       "860    hunt j b transport services inc          20030311             728535   \n",
       "15795           one stop systems, inc.          20200326            1394056   \n",
       "23654           chesapeake energy corp          20230222             895126   \n",
       "\n",
       "         Standard Industrial Classification  \\\n",
       "21575              investment advice [6282]   \n",
       "5390       national commercial banks [6021]   \n",
       "860              trucking (no local) [4213]   \n",
       "15795           electronic computers [3571]   \n",
       "23654  crude petroleum & natural gas [1311]   \n",
       "\n",
       "                                            Largest Text Ticker  \\\n",
       "21575  item 7. management's discussion and analysis o...    IVZ   \n",
       "5390   item 7. management s discussion and analysis o...   WSBC   \n",
       "860    item 7. management s discussion and analysis o...   JBHT   \n",
       "15795  item 7. management s discussion and analysis o...    OSS   \n",
       "23654  item 7. management s discussion and analysis o...    CHK   \n",
       "\n",
       "       Percent Change (1 Week) Return Type  \n",
       "21575                -0.011837    Negative  \n",
       "5390                 -0.036410    Negative  \n",
       "860                   0.133758    Positive  \n",
       "15795                -0.068966    Negative  \n",
       "23654                 0.013927    Positive  "
      ]
     },
     "execution_count": 9,
     "metadata": {},
     "output_type": "execute_result"
    }
   ],
   "source": [
    "df.tail()"
   ]
  },
  {
   "cell_type": "code",
   "execution_count": 10,
   "metadata": {},
   "outputs": [
    {
     "data": {
      "text/html": [
       "<div>\n",
       "<style scoped>\n",
       "    .dataframe tbody tr th:only-of-type {\n",
       "        vertical-align: middle;\n",
       "    }\n",
       "\n",
       "    .dataframe tbody tr th {\n",
       "        vertical-align: top;\n",
       "    }\n",
       "\n",
       "    .dataframe thead th {\n",
       "        text-align: right;\n",
       "    }\n",
       "</style>\n",
       "<table border=\"1\" class=\"dataframe\">\n",
       "  <thead>\n",
       "    <tr style=\"text-align: right;\">\n",
       "      <th></th>\n",
       "      <th>Filename</th>\n",
       "      <th>Company Name</th>\n",
       "      <th>Filed As Of Date</th>\n",
       "      <th>Central Index Key</th>\n",
       "      <th>Standard Industrial Classification</th>\n",
       "      <th>Largest Text</th>\n",
       "      <th>Ticker</th>\n",
       "      <th>Percent Change (1 Week)</th>\n",
       "      <th>Return Type</th>\n",
       "    </tr>\n",
       "  </thead>\n",
       "  <tbody>\n",
       "    <tr>\n",
       "      <th>12665</th>\n",
       "      <td>20180301_10-K_edgar_data_1034054_0001034054-18...</td>\n",
       "      <td>sba communications corp</td>\n",
       "      <td>20180301</td>\n",
       "      <td>1034054</td>\n",
       "      <td>real estate investment trusts [6798]</td>\n",
       "      <td>item 7. management s discussion and analysis o...</td>\n",
       "      <td>SBAC</td>\n",
       "      <td>0.024587</td>\n",
       "      <td>Positive</td>\n",
       "    </tr>\n",
       "    <tr>\n",
       "      <th>14013</th>\n",
       "      <td>20190207_10-K_edgar_data_1413329_0001413329-19...</td>\n",
       "      <td>philip morris international inc.</td>\n",
       "      <td>20190207</td>\n",
       "      <td>1413329</td>\n",
       "      <td>cigarettes [2111]</td>\n",
       "      <td>item 7. management's discussion and analysis o...</td>\n",
       "      <td>PM</td>\n",
       "      <td>0.059560</td>\n",
       "      <td>Positive</td>\n",
       "    </tr>\n",
       "    <tr>\n",
       "      <th>13392</th>\n",
       "      <td>20190226_10-K_edgar_data_1372020_0001564590-19...</td>\n",
       "      <td>great lakes dredge &amp; dock corp</td>\n",
       "      <td>20190226</td>\n",
       "      <td>1372020</td>\n",
       "      <td>heavy construction other than building const -...</td>\n",
       "      <td>item 7. management's discussion and analysis o...</td>\n",
       "      <td>GLDD</td>\n",
       "      <td>0.010676</td>\n",
       "      <td>Positive</td>\n",
       "    </tr>\n",
       "    <tr>\n",
       "      <th>15443</th>\n",
       "      <td>20200228_10-K_edgar_data_1509589_0001509589-20...</td>\n",
       "      <td>bonanza creek energy, inc.</td>\n",
       "      <td>20200228</td>\n",
       "      <td>1509589</td>\n",
       "      <td>crude petroleum &amp; natural gas [1311]</td>\n",
       "      <td>item 7. management s discussion and analysis o...</td>\n",
       "      <td>CIVI</td>\n",
       "      <td>0.082873</td>\n",
       "      <td>Positive</td>\n",
       "    </tr>\n",
       "    <tr>\n",
       "      <th>4521</th>\n",
       "      <td>20100225_10-K_edgar_data_98362_0000950123-10-0...</td>\n",
       "      <td>timken co</td>\n",
       "      <td>20100225</td>\n",
       "      <td>98362</td>\n",
       "      <td>ball &amp; roller bearings [3562]</td>\n",
       "      <td>item 7. management s discussion and analysis o...</td>\n",
       "      <td>TKR</td>\n",
       "      <td>0.034338</td>\n",
       "      <td>Positive</td>\n",
       "    </tr>\n",
       "    <tr>\n",
       "      <th>14364</th>\n",
       "      <td>20190214_10-K_edgar_data_1747009_0001747009-19...</td>\n",
       "      <td>equitrans midstream corp</td>\n",
       "      <td>20190214</td>\n",
       "      <td>1747009</td>\n",
       "      <td>natural gas transmission [4922]</td>\n",
       "      <td>item 7. management's discussion and analysis o...</td>\n",
       "      <td>ETRN</td>\n",
       "      <td>0.014856</td>\n",
       "      <td>Positive</td>\n",
       "    </tr>\n",
       "    <tr>\n",
       "      <th>1586</th>\n",
       "      <td>20050606_10-K_edgar_data_1040130_0000943440-05...</td>\n",
       "      <td>petmed express inc</td>\n",
       "      <td>20050606</td>\n",
       "      <td>1040130</td>\n",
       "      <td>retail-drug stores and proprietary stores [5912]</td>\n",
       "      <td>item 7. management's discussion and analysis o...</td>\n",
       "      <td>PETS</td>\n",
       "      <td>0.077027</td>\n",
       "      <td>Positive</td>\n",
       "    </tr>\n",
       "    <tr>\n",
       "      <th>11032</th>\n",
       "      <td>20170217_10-K_edgar_data_867773_0000867773-17-...</td>\n",
       "      <td>sunpower corp</td>\n",
       "      <td>20170217</td>\n",
       "      <td>867773</td>\n",
       "      <td>semiconductors &amp; related devices [3674]</td>\n",
       "      <td>item 7. management s discussion and analysis o...</td>\n",
       "      <td>SPWR</td>\n",
       "      <td>0.139417</td>\n",
       "      <td>Positive</td>\n",
       "    </tr>\n",
       "    <tr>\n",
       "      <th>6076</th>\n",
       "      <td>20130405_10-K_edgar_data_1223389_0001140361-13...</td>\n",
       "      <td>conns inc</td>\n",
       "      <td>20130405</td>\n",
       "      <td>1223389</td>\n",
       "      <td>retail-radio tv &amp; consumer electronics stores ...</td>\n",
       "      <td>item 7. management s discussion and analysis o...</td>\n",
       "      <td>CONN</td>\n",
       "      <td>0.005947</td>\n",
       "      <td>Positive</td>\n",
       "    </tr>\n",
       "    <tr>\n",
       "      <th>15528</th>\n",
       "      <td>20200227_10-K_edgar_data_717423_0000717423-20-...</td>\n",
       "      <td>murphy oil corp</td>\n",
       "      <td>20200227</td>\n",
       "      <td>717423</td>\n",
       "      <td>crude petroleum &amp; natural gas [1311]</td>\n",
       "      <td>item 7. management s discussion and analysis o...</td>\n",
       "      <td>MUR</td>\n",
       "      <td>0.066292</td>\n",
       "      <td>Positive</td>\n",
       "    </tr>\n",
       "  </tbody>\n",
       "</table>\n",
       "</div>"
      ],
      "text/plain": [
       "                                                Filename  \\\n",
       "12665  20180301_10-K_edgar_data_1034054_0001034054-18...   \n",
       "14013  20190207_10-K_edgar_data_1413329_0001413329-19...   \n",
       "13392  20190226_10-K_edgar_data_1372020_0001564590-19...   \n",
       "15443  20200228_10-K_edgar_data_1509589_0001509589-20...   \n",
       "4521   20100225_10-K_edgar_data_98362_0000950123-10-0...   \n",
       "14364  20190214_10-K_edgar_data_1747009_0001747009-19...   \n",
       "1586   20050606_10-K_edgar_data_1040130_0000943440-05...   \n",
       "11032  20170217_10-K_edgar_data_867773_0000867773-17-...   \n",
       "6076   20130405_10-K_edgar_data_1223389_0001140361-13...   \n",
       "15528  20200227_10-K_edgar_data_717423_0000717423-20-...   \n",
       "\n",
       "                           Company Name  Filed As Of Date  Central Index Key  \\\n",
       "12665           sba communications corp          20180301            1034054   \n",
       "14013  philip morris international inc.          20190207            1413329   \n",
       "13392    great lakes dredge & dock corp          20190226            1372020   \n",
       "15443        bonanza creek energy, inc.          20200228            1509589   \n",
       "4521                          timken co          20100225              98362   \n",
       "14364          equitrans midstream corp          20190214            1747009   \n",
       "1586                 petmed express inc          20050606            1040130   \n",
       "11032                     sunpower corp          20170217             867773   \n",
       "6076                          conns inc          20130405            1223389   \n",
       "15528                   murphy oil corp          20200227             717423   \n",
       "\n",
       "                      Standard Industrial Classification  \\\n",
       "12665               real estate investment trusts [6798]   \n",
       "14013                                  cigarettes [2111]   \n",
       "13392  heavy construction other than building const -...   \n",
       "15443               crude petroleum & natural gas [1311]   \n",
       "4521                       ball & roller bearings [3562]   \n",
       "14364                    natural gas transmission [4922]   \n",
       "1586    retail-drug stores and proprietary stores [5912]   \n",
       "11032            semiconductors & related devices [3674]   \n",
       "6076   retail-radio tv & consumer electronics stores ...   \n",
       "15528               crude petroleum & natural gas [1311]   \n",
       "\n",
       "                                            Largest Text Ticker  \\\n",
       "12665  item 7. management s discussion and analysis o...   SBAC   \n",
       "14013  item 7. management's discussion and analysis o...     PM   \n",
       "13392  item 7. management's discussion and analysis o...   GLDD   \n",
       "15443  item 7. management s discussion and analysis o...   CIVI   \n",
       "4521   item 7. management s discussion and analysis o...    TKR   \n",
       "14364  item 7. management's discussion and analysis o...   ETRN   \n",
       "1586   item 7. management's discussion and analysis o...   PETS   \n",
       "11032  item 7. management s discussion and analysis o...   SPWR   \n",
       "6076   item 7. management s discussion and analysis o...   CONN   \n",
       "15528  item 7. management s discussion and analysis o...    MUR   \n",
       "\n",
       "       Percent Change (1 Week) Return Type  \n",
       "12665                 0.024587    Positive  \n",
       "14013                 0.059560    Positive  \n",
       "13392                 0.010676    Positive  \n",
       "15443                 0.082873    Positive  \n",
       "4521                  0.034338    Positive  \n",
       "14364                 0.014856    Positive  \n",
       "1586                  0.077027    Positive  \n",
       "11032                 0.139417    Positive  \n",
       "6076                  0.005947    Positive  \n",
       "15528                 0.066292    Positive  "
      ]
     },
     "execution_count": 10,
     "metadata": {},
     "output_type": "execute_result"
    }
   ],
   "source": [
    "np.random.seed(2)\n",
    "df.sample(10)"
   ]
  },
  {
   "cell_type": "code",
   "execution_count": 12,
   "metadata": {},
   "outputs": [
    {
     "name": "stdout",
     "output_type": "stream",
     "text": [
      "<class 'pandas.core.frame.DataFrame'>\n",
      "Index: 18243 entries, 5195 to 23654\n",
      "Data columns (total 9 columns):\n",
      " #   Column                              Non-Null Count  Dtype  \n",
      "---  ------                              --------------  -----  \n",
      " 0   Filename                            18243 non-null  object \n",
      " 1   Company Name                        18243 non-null  object \n",
      " 2   Filed As Of Date                    18243 non-null  int64  \n",
      " 3   Central Index Key                   18243 non-null  int64  \n",
      " 4   Standard Industrial Classification  18243 non-null  object \n",
      " 5   Largest Text                        18243 non-null  object \n",
      " 6   Ticker                              18243 non-null  object \n",
      " 7   Percent Change (1 Week)             18243 non-null  float64\n",
      " 8   Return Type                         18243 non-null  object \n",
      "dtypes: float64(1), int64(2), object(6)\n",
      "memory usage: 1.4+ MB\n"
     ]
    }
   ],
   "source": [
    "df.info()"
   ]
  },
  {
   "cell_type": "code",
   "execution_count": 13,
   "metadata": {},
   "outputs": [
    {
     "data": {
      "text/plain": [
       "Filename                              0\n",
       "Company Name                          0\n",
       "Filed As Of Date                      0\n",
       "Central Index Key                     0\n",
       "Standard Industrial Classification    0\n",
       "Largest Text                          0\n",
       "Ticker                                0\n",
       "Percent Change (1 Week)               0\n",
       "Return Type                           0\n",
       "dtype: int64"
      ]
     },
     "execution_count": 13,
     "metadata": {},
     "output_type": "execute_result"
    }
   ],
   "source": [
    "df.isnull().sum()"
   ]
  },
  {
   "cell_type": "code",
   "execution_count": 14,
   "metadata": {},
   "outputs": [
    {
     "data": {
      "text/html": [
       "<div>\n",
       "<style scoped>\n",
       "    .dataframe tbody tr th:only-of-type {\n",
       "        vertical-align: middle;\n",
       "    }\n",
       "\n",
       "    .dataframe tbody tr th {\n",
       "        vertical-align: top;\n",
       "    }\n",
       "\n",
       "    .dataframe thead th {\n",
       "        text-align: right;\n",
       "    }\n",
       "</style>\n",
       "<table border=\"1\" class=\"dataframe\">\n",
       "  <thead>\n",
       "    <tr style=\"text-align: right;\">\n",
       "      <th></th>\n",
       "      <th>count</th>\n",
       "      <th>mean</th>\n",
       "      <th>std</th>\n",
       "      <th>min</th>\n",
       "      <th>25%</th>\n",
       "      <th>50%</th>\n",
       "      <th>75%</th>\n",
       "      <th>max</th>\n",
       "    </tr>\n",
       "  </thead>\n",
       "  <tbody>\n",
       "    <tr>\n",
       "      <th>Filed As Of Date</th>\n",
       "      <td>18243.0</td>\n",
       "      <td>2.016307e+07</td>\n",
       "      <td>60943.358935</td>\n",
       "      <td>2.000013e+07</td>\n",
       "      <td>2.013022e+07</td>\n",
       "      <td>2.018030e+07</td>\n",
       "      <td>2.021033e+07</td>\n",
       "      <td>2.023123e+07</td>\n",
       "    </tr>\n",
       "    <tr>\n",
       "      <th>Central Index Key</th>\n",
       "      <td>18243.0</td>\n",
       "      <td>1.014722e+06</td>\n",
       "      <td>514968.173959</td>\n",
       "      <td>1.750000e+03</td>\n",
       "      <td>8.120740e+05</td>\n",
       "      <td>1.051470e+06</td>\n",
       "      <td>1.412408e+06</td>\n",
       "      <td>1.934850e+06</td>\n",
       "    </tr>\n",
       "    <tr>\n",
       "      <th>Percent Change (1 Week)</th>\n",
       "      <td>18243.0</td>\n",
       "      <td>3.493795e-03</td>\n",
       "      <td>0.740179</td>\n",
       "      <td>-7.391304e-01</td>\n",
       "      <td>-3.104144e-02</td>\n",
       "      <td>-4.177780e-04</td>\n",
       "      <td>2.771466e-02</td>\n",
       "      <td>9.900000e+01</td>\n",
       "    </tr>\n",
       "  </tbody>\n",
       "</table>\n",
       "</div>"
      ],
      "text/plain": [
       "                           count          mean            std           min  \\\n",
       "Filed As Of Date         18243.0  2.016307e+07   60943.358935  2.000013e+07   \n",
       "Central Index Key        18243.0  1.014722e+06  514968.173959  1.750000e+03   \n",
       "Percent Change (1 Week)  18243.0  3.493795e-03       0.740179 -7.391304e-01   \n",
       "\n",
       "                                  25%           50%           75%  \\\n",
       "Filed As Of Date         2.013022e+07  2.018030e+07  2.021033e+07   \n",
       "Central Index Key        8.120740e+05  1.051470e+06  1.412408e+06   \n",
       "Percent Change (1 Week) -3.104144e-02 -4.177780e-04  2.771466e-02   \n",
       "\n",
       "                                  max  \n",
       "Filed As Of Date         2.023123e+07  \n",
       "Central Index Key        1.934850e+06  \n",
       "Percent Change (1 Week)  9.900000e+01  "
      ]
     },
     "execution_count": 14,
     "metadata": {},
     "output_type": "execute_result"
    }
   ],
   "source": [
    "df.describe().T"
   ]
  },
  {
   "cell_type": "markdown",
   "metadata": {},
   "source": [
    "# Exploratory Data Analysis"
   ]
  },
  {
   "cell_type": "code",
   "execution_count": 15,
   "metadata": {},
   "outputs": [],
   "source": [
    "def histogram_boxplot(data, feature, figsize=(15, 10), kde=False, bins=None):\n",
    "    f2, (ax_box2, ax_hist2) = plt.subplots(\n",
    "        nrows=2,\n",
    "        sharex=True,\n",
    "        gridspec_kw={\"height_ratios\": (0.25, 0.75)},\n",
    "        figsize=figsize,)\n",
    "    sns.boxplot(data=data, x=feature, ax=ax_box2, showmeans=True, color=\"violet\")\n",
    "    sns.histplot(\n",
    "        data=data, x=feature, kde=kde, ax=ax_hist2, bins=bins, palette=\"winter\"\n",
    "    ) if bins else sns.histplot(data=data, x=feature, kde=kde, ax=ax_hist2)\n",
    "    ax_hist2.axvline(data[feature].mean(), color=\"green\", linestyle=\"--\")\n",
    "    ax_hist2.axvline(data[feature].median(), color=\"black\", linestyle=\"-\")"
   ]
  },
  {
   "cell_type": "code",
   "execution_count": 16,
   "metadata": {},
   "outputs": [
    {
     "data": {
      "image/png": "[encoded data removed]",
      "text/plain": [
       "<Figure size 1500x1000 with 2 Axes>"
      ]
     },
     "metadata": {},
     "output_type": "display_data"
    }
   ],
   "source": [
    "# Observation on Filed As Of Date\n",
    "histogram_boxplot(df, \"Filed As Of Date\")"
   ]
  },
  {
   "cell_type": "code",
   "execution_count": 17,
   "metadata": {},
   "outputs": [
    {
     "data": {
      "image/png": "[encoded data removed]",
      "text/plain": [
       "<Figure size 1500x1000 with 2 Axes>"
      ]
     },
     "metadata": {},
     "output_type": "display_data"
    }
   ],
   "source": [
    "# Observation on Percent Change (1 Week)\n",
    "histogram_boxplot(df, \"Percent Change (1 Week)\")"
   ]
  },
  {
   "cell_type": "code",
   "execution_count": 18,
   "metadata": {},
   "outputs": [],
   "source": [
    "def labeled_barplot(data, feature, perc=False, n=None):\n",
    "    total = len(data[feature])\n",
    "    count = data[feature].nunique()\n",
    "    if n is None:\n",
    "        plt.figure(figsize=(count + 1, 5))\n",
    "    else:\n",
    "        plt.figure(figsize=(n + 1, 5))\n",
    "\n",
    "    plt.xticks(rotation=90, fontsize=15)\n",
    "    ax = sns.countplot(\n",
    "        data=data,\n",
    "        x=feature,\n",
    "        palette=\"Paired\",\n",
    "        order=data[feature].value_counts().index[:n].sort_values(),)\n",
    "\n",
    "    for p in ax.patches:\n",
    "        if perc == True:\n",
    "            label = \"{:.1f}%\".format(100 * p.get_height() / total)\n",
    "        else:\n",
    "            label = p.get_height()\n",
    "\n",
    "        x = p.get_x() + p.get_width() / 2\n",
    "        y = p.get_height()\n",
    "\n",
    "        ax.annotate(\n",
    "            label,\n",
    "            (x, y),\n",
    "            ha=\"center\",\n",
    "            va=\"center\",\n",
    "            size=12,\n",
    "            xytext=(0, 5),\n",
    "            textcoords=\"offset points\",\n",
    "        )\n",
    "\n",
    "    plt.show()"
   ]
  },
  {
   "cell_type": "code",
   "execution_count": 19,
   "metadata": {},
   "outputs": [
    {
     "data": {
      "image/png": "[encoded data removed]",
      "text/plain": [
       "<Figure size 300x500 with 1 Axes>"
      ]
     },
     "metadata": {},
     "output_type": "display_data"
    }
   ],
   "source": [
    "# Observation on Return Type (No Information Rate)\n",
    "labeled_barplot(df, \"Return Type\", perc=True)"
   ]
  },
  {
   "cell_type": "code",
   "execution_count": 20,
   "metadata": {},
   "outputs": [
    {
     "data": {
      "text/plain": [
       "<seaborn.axisgrid.PairGrid at 0x29168b010>"
      ]
     },
     "execution_count": 20,
     "metadata": {},
     "output_type": "execute_result"
    },
    {
     "data": {
      "image/png": "[encoded data removed]",
      "text/plain": [
       "<Figure size 862.5x750 with 9 Axes>"
      ]
     },
     "metadata": {},
     "output_type": "display_data"
    }
   ],
   "source": [
    "sns.pairplot(df, corner=True, hue=\"Return Type\")"
   ]
  },
  {
   "cell_type": "markdown",
   "metadata": {},
   "source": [
    "# Data Cleaning"
   ]
  },
  {
   "cell_type": "markdown",
   "metadata": {},
   "source": [
    "## Dropping Columns"
   ]
  },
  {
   "cell_type": "code",
   "execution_count": 21,
   "metadata": {},
   "outputs": [],
   "source": [
    "df.drop(\n",
    "    [\n",
    "        \"Filename\",\n",
    "        \"Company Name\",\n",
    "        \"Filed As Of Date\",\n",
    "        \"Central Index Key\",\n",
    "        \"Percent Change (1 Week)\",\n",
    "        \"Standard Industrial Classification\",\n",
    "        \"Ticker\"\n",
    "    ],\n",
    "    axis=1,\n",
    "    inplace=True,\n",
    ")"
   ]
  },
  {
   "cell_type": "code",
   "execution_count": 22,
   "metadata": {},
   "outputs": [
    {
     "data": {
      "text/plain": [
       "(18243, 2)"
      ]
     },
     "execution_count": 22,
     "metadata": {},
     "output_type": "execute_result"
    }
   ],
   "source": [
    "df.shape"
   ]
  },
  {
   "cell_type": "code",
   "execution_count": 23,
   "metadata": {},
   "outputs": [
    {
     "data": {
      "text/html": [
       "<div>\n",
       "<style scoped>\n",
       "    .dataframe tbody tr th:only-of-type {\n",
       "        vertical-align: middle;\n",
       "    }\n",
       "\n",
       "    .dataframe tbody tr th {\n",
       "        vertical-align: top;\n",
       "    }\n",
       "\n",
       "    .dataframe thead th {\n",
       "        text-align: right;\n",
       "    }\n",
       "</style>\n",
       "<table border=\"1\" class=\"dataframe\">\n",
       "  <thead>\n",
       "    <tr style=\"text-align: right;\">\n",
       "      <th></th>\n",
       "      <th>Largest Text</th>\n",
       "      <th>Return Type</th>\n",
       "    </tr>\n",
       "  </thead>\n",
       "  <tbody>\n",
       "    <tr>\n",
       "      <th>5195</th>\n",
       "      <td>item 7. management's discussion and analysis o...</td>\n",
       "      <td>Positive</td>\n",
       "    </tr>\n",
       "    <tr>\n",
       "      <th>24009</th>\n",
       "      <td>item 7. management s discussion and analysis o...</td>\n",
       "      <td>Positive</td>\n",
       "    </tr>\n",
       "    <tr>\n",
       "      <th>18299</th>\n",
       "      <td>item 7. management's discussion and analysis o...</td>\n",
       "      <td>Negative</td>\n",
       "    </tr>\n",
       "    <tr>\n",
       "      <th>2129</th>\n",
       "      <td>item 7. management s discussion and analysis o...</td>\n",
       "      <td>Positive</td>\n",
       "    </tr>\n",
       "    <tr>\n",
       "      <th>2414</th>\n",
       "      <td>item 7. management s discussion and analysis o...</td>\n",
       "      <td>Positive</td>\n",
       "    </tr>\n",
       "  </tbody>\n",
       "</table>\n",
       "</div>"
      ],
      "text/plain": [
       "                                            Largest Text Return Type\n",
       "5195   item 7. management's discussion and analysis o...    Positive\n",
       "24009  item 7. management s discussion and analysis o...    Positive\n",
       "18299  item 7. management's discussion and analysis o...    Negative\n",
       "2129   item 7. management s discussion and analysis o...    Positive\n",
       "2414   item 7. management s discussion and analysis o...    Positive"
      ]
     },
     "execution_count": 23,
     "metadata": {},
     "output_type": "execute_result"
    }
   ],
   "source": [
    "df.head()"
   ]
  },
  {
   "cell_type": "markdown",
   "metadata": {},
   "source": [
    "## Preprocessing"
   ]
  },
  {
   "cell_type": "markdown",
   "metadata": {},
   "source": [
    "### Tag Removal"
   ]
  },
  {
   "cell_type": "code",
   "execution_count": 24,
   "metadata": {},
   "outputs": [
    {
     "data": {
      "text/html": [
       "<div>\n",
       "<style scoped>\n",
       "    .dataframe tbody tr th:only-of-type {\n",
       "        vertical-align: middle;\n",
       "    }\n",
       "\n",
       "    .dataframe tbody tr th {\n",
       "        vertical-align: top;\n",
       "    }\n",
       "\n",
       "    .dataframe thead th {\n",
       "        text-align: right;\n",
       "    }\n",
       "</style>\n",
       "<table border=\"1\" class=\"dataframe\">\n",
       "  <thead>\n",
       "    <tr style=\"text-align: right;\">\n",
       "      <th></th>\n",
       "      <th>Largest Text</th>\n",
       "      <th>Return Type</th>\n",
       "    </tr>\n",
       "  </thead>\n",
       "  <tbody>\n",
       "    <tr>\n",
       "      <th>5195</th>\n",
       "      <td>item 7. management's discussion and analysis o...</td>\n",
       "      <td>Positive</td>\n",
       "    </tr>\n",
       "    <tr>\n",
       "      <th>24009</th>\n",
       "      <td>item 7. management s discussion and analysis o...</td>\n",
       "      <td>Positive</td>\n",
       "    </tr>\n",
       "    <tr>\n",
       "      <th>18299</th>\n",
       "      <td>item 7. management's discussion and analysis o...</td>\n",
       "      <td>Negative</td>\n",
       "    </tr>\n",
       "    <tr>\n",
       "      <th>2129</th>\n",
       "      <td>item 7. management s discussion and analysis o...</td>\n",
       "      <td>Positive</td>\n",
       "    </tr>\n",
       "    <tr>\n",
       "      <th>2414</th>\n",
       "      <td>item 7. management s discussion and analysis o...</td>\n",
       "      <td>Positive</td>\n",
       "    </tr>\n",
       "  </tbody>\n",
       "</table>\n",
       "</div>"
      ],
      "text/plain": [
       "                                            Largest Text Return Type\n",
       "5195   item 7. management's discussion and analysis o...    Positive\n",
       "24009  item 7. management s discussion and analysis o...    Positive\n",
       "18299  item 7. management's discussion and analysis o...    Negative\n",
       "2129   item 7. management s discussion and analysis o...    Positive\n",
       "2414   item 7. management s discussion and analysis o...    Positive"
      ]
     },
     "execution_count": 24,
     "metadata": {},
     "output_type": "execute_result"
    }
   ],
   "source": [
    "def strip_html(text):\n",
    "    soup = BeautifulSoup(text, \"html.parser\")\n",
    "    return soup.get_text()\n",
    "\n",
    "df[\"Largest Text\"] = df[\"Largest Text\"].apply(lambda x: strip_html(x))\n",
    "\n",
    "df.head()"
   ]
  },
  {
   "cell_type": "markdown",
   "metadata": {},
   "source": [
    "### Replace Contractions "
   ]
  },
  {
   "cell_type": "code",
   "execution_count": 25,
   "metadata": {},
   "outputs": [
    {
     "data": {
      "text/html": [
       "<div>\n",
       "<style scoped>\n",
       "    .dataframe tbody tr th:only-of-type {\n",
       "        vertical-align: middle;\n",
       "    }\n",
       "\n",
       "    .dataframe tbody tr th {\n",
       "        vertical-align: top;\n",
       "    }\n",
       "\n",
       "    .dataframe thead th {\n",
       "        text-align: right;\n",
       "    }\n",
       "</style>\n",
       "<table border=\"1\" class=\"dataframe\">\n",
       "  <thead>\n",
       "    <tr style=\"text-align: right;\">\n",
       "      <th></th>\n",
       "      <th>Largest Text</th>\n",
       "      <th>Return Type</th>\n",
       "    </tr>\n",
       "  </thead>\n",
       "  <tbody>\n",
       "    <tr>\n",
       "      <th>5195</th>\n",
       "      <td>item 7. management's discussion and analysis o...</td>\n",
       "      <td>Positive</td>\n",
       "    </tr>\n",
       "    <tr>\n",
       "      <th>24009</th>\n",
       "      <td>item 7. management s discussion and analysis o...</td>\n",
       "      <td>Positive</td>\n",
       "    </tr>\n",
       "    <tr>\n",
       "      <th>18299</th>\n",
       "      <td>item 7. management's discussion and analysis o...</td>\n",
       "      <td>Negative</td>\n",
       "    </tr>\n",
       "    <tr>\n",
       "      <th>2129</th>\n",
       "      <td>item 7. management s discussion and analysis o...</td>\n",
       "      <td>Positive</td>\n",
       "    </tr>\n",
       "    <tr>\n",
       "      <th>2414</th>\n",
       "      <td>item 7. management s discussion and analysis o...</td>\n",
       "      <td>Positive</td>\n",
       "    </tr>\n",
       "  </tbody>\n",
       "</table>\n",
       "</div>"
      ],
      "text/plain": [
       "                                            Largest Text Return Type\n",
       "5195   item 7. management's discussion and analysis o...    Positive\n",
       "24009  item 7. management s discussion and analysis o...    Positive\n",
       "18299  item 7. management's discussion and analysis o...    Negative\n",
       "2129   item 7. management s discussion and analysis o...    Positive\n",
       "2414   item 7. management s discussion and analysis o...    Positive"
      ]
     },
     "execution_count": 25,
     "metadata": {},
     "output_type": "execute_result"
    }
   ],
   "source": [
    "def replace_contractions(text):\n",
    "    \"\"\"Replace contractions in string of text\"\"\"\n",
    "    return contractions.fix(text)\n",
    "\n",
    "df[\"Largest Text\"] = df[\"Largest Text\"].apply(lambda x: replace_contractions(x))\n",
    "\n",
    "df.head()"
   ]
  },
  {
   "cell_type": "markdown",
   "metadata": {},
   "source": [
    "### Remove Numbers/Special Characters "
   ]
  },
  {
   "cell_type": "code",
   "execution_count": 26,
   "metadata": {},
   "outputs": [
    {
     "data": {
      "text/html": [
       "<div>\n",
       "<style scoped>\n",
       "    .dataframe tbody tr th:only-of-type {\n",
       "        vertical-align: middle;\n",
       "    }\n",
       "\n",
       "    .dataframe tbody tr th {\n",
       "        vertical-align: top;\n",
       "    }\n",
       "\n",
       "    .dataframe thead th {\n",
       "        text-align: right;\n",
       "    }\n",
       "</style>\n",
       "<table border=\"1\" class=\"dataframe\">\n",
       "  <thead>\n",
       "    <tr style=\"text-align: right;\">\n",
       "      <th></th>\n",
       "      <th>Largest Text</th>\n",
       "      <th>Return Type</th>\n",
       "    </tr>\n",
       "  </thead>\n",
       "  <tbody>\n",
       "    <tr>\n",
       "      <th>5195</th>\n",
       "      <td>item  managements discussion and analysis of f...</td>\n",
       "      <td>Positive</td>\n",
       "    </tr>\n",
       "    <tr>\n",
       "      <th>24009</th>\n",
       "      <td>item  management s discussion and analysis of ...</td>\n",
       "      <td>Positive</td>\n",
       "    </tr>\n",
       "    <tr>\n",
       "      <th>18299</th>\n",
       "      <td>item  managements discussion and analysis of f...</td>\n",
       "      <td>Negative</td>\n",
       "    </tr>\n",
       "    <tr>\n",
       "      <th>2129</th>\n",
       "      <td>item  management s discussion and analysis of ...</td>\n",
       "      <td>Positive</td>\n",
       "    </tr>\n",
       "    <tr>\n",
       "      <th>2414</th>\n",
       "      <td>item  management s discussion and analysis of ...</td>\n",
       "      <td>Positive</td>\n",
       "    </tr>\n",
       "  </tbody>\n",
       "</table>\n",
       "</div>"
      ],
      "text/plain": [
       "                                            Largest Text Return Type\n",
       "5195   item  managements discussion and analysis of f...    Positive\n",
       "24009  item  management s discussion and analysis of ...    Positive\n",
       "18299  item  managements discussion and analysis of f...    Negative\n",
       "2129   item  management s discussion and analysis of ...    Positive\n",
       "2414   item  management s discussion and analysis of ...    Positive"
      ]
     },
     "execution_count": 26,
     "metadata": {},
     "output_type": "execute_result"
    }
   ],
   "source": [
    "def remove_special_characters(text, remove_digits=True):\n",
    "    special = r\"[^a-zA-Z0-9\\s]\" if not remove_digits else r\"[^a-zA-z\\s]\"\n",
    "    text = re.sub(special, \"\", text)\n",
    "    return text\n",
    "\n",
    "df[\"Largest Text\"] = df[\"Largest Text\"].apply(lambda x: remove_special_characters(x))\n",
    "\n",
    "df.head()"
   ]
  },
  {
   "cell_type": "markdown",
   "metadata": {},
   "source": [
    "### Conversion to Lowercase "
   ]
  },
  {
   "cell_type": "code",
   "execution_count": 27,
   "metadata": {},
   "outputs": [
    {
     "data": {
      "text/html": [
       "<div>\n",
       "<style scoped>\n",
       "    .dataframe tbody tr th:only-of-type {\n",
       "        vertical-align: middle;\n",
       "    }\n",
       "\n",
       "    .dataframe tbody tr th {\n",
       "        vertical-align: top;\n",
       "    }\n",
       "\n",
       "    .dataframe thead th {\n",
       "        text-align: right;\n",
       "    }\n",
       "</style>\n",
       "<table border=\"1\" class=\"dataframe\">\n",
       "  <thead>\n",
       "    <tr style=\"text-align: right;\">\n",
       "      <th></th>\n",
       "      <th>Largest Text</th>\n",
       "      <th>Return Type</th>\n",
       "    </tr>\n",
       "  </thead>\n",
       "  <tbody>\n",
       "    <tr>\n",
       "      <th>5195</th>\n",
       "      <td>item  managements discussion and analysis of f...</td>\n",
       "      <td>Positive</td>\n",
       "    </tr>\n",
       "    <tr>\n",
       "      <th>24009</th>\n",
       "      <td>item  management s discussion and analysis of ...</td>\n",
       "      <td>Positive</td>\n",
       "    </tr>\n",
       "    <tr>\n",
       "      <th>18299</th>\n",
       "      <td>item  managements discussion and analysis of f...</td>\n",
       "      <td>Negative</td>\n",
       "    </tr>\n",
       "    <tr>\n",
       "      <th>2129</th>\n",
       "      <td>item  management s discussion and analysis of ...</td>\n",
       "      <td>Positive</td>\n",
       "    </tr>\n",
       "    <tr>\n",
       "      <th>2414</th>\n",
       "      <td>item  management s discussion and analysis of ...</td>\n",
       "      <td>Positive</td>\n",
       "    </tr>\n",
       "  </tbody>\n",
       "</table>\n",
       "</div>"
      ],
      "text/plain": [
       "                                            Largest Text Return Type\n",
       "5195   item  managements discussion and analysis of f...    Positive\n",
       "24009  item  management s discussion and analysis of ...    Positive\n",
       "18299  item  managements discussion and analysis of f...    Negative\n",
       "2129   item  management s discussion and analysis of ...    Positive\n",
       "2414   item  management s discussion and analysis of ...    Positive"
      ]
     },
     "execution_count": 27,
     "metadata": {},
     "output_type": "execute_result"
    }
   ],
   "source": [
    "def to_lowercase(text):\n",
    "    \"\"\"Convert all characters to lowercase\"\"\"\n",
    "    lower = text.lower()\n",
    "    return lower\n",
    "\n",
    "df[\"Largest Text\"] = df[\"Largest Text\"].apply(lambda x: to_lowercase(x))\n",
    "\n",
    "df.head()"
   ]
  },
  {
   "cell_type": "markdown",
   "metadata": {},
   "source": [
    "### Tokenization"
   ]
  },
  {
   "cell_type": "code",
   "execution_count": 28,
   "metadata": {},
   "outputs": [],
   "source": [
    "# Ensure the text column is of type string\n",
    "#df['Largest Text'] = df['Largest Text'].astype(str)\n",
    "\n",
    "# Use apply() to tokenize each entry in the \"Largest Text\" column\n",
    "#df['Largest Text'] = df['Largest Text'].apply(nltk.word_tokenize)"
   ]
  },
  {
   "cell_type": "code",
   "execution_count": 29,
   "metadata": {},
   "outputs": [],
   "source": [
    "#New Tokenization method to help handle for scale of data\n",
    "chunk_size = 1000\n",
    "chunks = [df[i:i + chunk_size] for i in range(0, df.shape[0], chunk_size)]\n",
    "processed_chunks = []\n",
    "\n",
    "for chunk in chunks:\n",
    "    chunk['Largest Text'] = chunk['Largest Text'].astype(str)\n",
    "    chunk['Largest Text'] = chunk['Largest Text'].apply(nltk.word_tokenize)\n",
    "    processed_chunks.append(chunk)\n",
    "    del chunk\n",
    "\n",
    "df = pd.concat(processed_chunks, ignore_index=True)"
   ]
  },
  {
   "cell_type": "code",
   "execution_count": 30,
   "metadata": {},
   "outputs": [],
   "source": [
    "del processed_chunks"
   ]
  },
  {
   "cell_type": "code",
   "execution_count": 31,
   "metadata": {
    "scrolled": true
   },
   "outputs": [],
   "source": [
    "#df['Largest Text'] = df['Largest Text'].astype(str)\n",
    "#for index, row in df.iterrows():\n",
    "    #df.at[index, \"Largest Text\"] = nltk.word_tokenize(row[\"Largest Text\"])"
   ]
  },
  {
   "cell_type": "code",
   "execution_count": 32,
   "metadata": {},
   "outputs": [
    {
     "name": "stdout",
     "output_type": "stream",
     "text": [
      "14432.462259496793\n"
     ]
    }
   ],
   "source": [
    "df.head()\n",
    "\n",
    "average_length = df['Largest Text'].str.len().mean()\n",
    "print(average_length)"
   ]
  },
  {
   "cell_type": "markdown",
   "metadata": {},
   "source": [
    "### Remove Stopwords"
   ]
  },
  {
   "cell_type": "code",
   "execution_count": 33,
   "metadata": {},
   "outputs": [],
   "source": [
    "stopwords = stopwords.words(\"english\")\n",
    "\n",
    "customlist = [\n",
    "    \"not\",\n",
    "    \"could\",\n",
    "    \"did\",\n",
    "    \"does\",\n",
    "    \"had\",\n",
    "    \"has\",\n",
    "    \"have\",\n",
    "    \"is\",\n",
    "    \"ma\",\n",
    "    \"might\",\n",
    "    \"must\",\n",
    "    \"need\",\n",
    "    \"shall\",\n",
    "    \"should\",\n",
    "    \"was\",\n",
    "    \"were\",\n",
    "    \"will\",\n",
    "    \"would\",\n",
    "]\n",
    "\n",
    "stopwords = list(set(stopwords) - set(customlist))"
   ]
  },
  {
   "cell_type": "code",
   "execution_count": 35,
   "metadata": {},
   "outputs": [
    {
     "data": {
      "text/html": [
       "<div>\n",
       "<style scoped>\n",
       "    .dataframe tbody tr th:only-of-type {\n",
       "        vertical-align: middle;\n",
       "    }\n",
       "\n",
       "    .dataframe tbody tr th {\n",
       "        vertical-align: top;\n",
       "    }\n",
       "\n",
       "    .dataframe thead th {\n",
       "        text-align: right;\n",
       "    }\n",
       "</style>\n",
       "<table border=\"1\" class=\"dataframe\">\n",
       "  <thead>\n",
       "    <tr style=\"text-align: right;\">\n",
       "      <th></th>\n",
       "      <th>Largest Text</th>\n",
       "      <th>Return Type</th>\n",
       "    </tr>\n",
       "  </thead>\n",
       "  <tbody>\n",
       "    <tr>\n",
       "      <th>0</th>\n",
       "      <td>[item, managements, discussion, analysis, fina...</td>\n",
       "      <td>Positive</td>\n",
       "    </tr>\n",
       "    <tr>\n",
       "      <th>1</th>\n",
       "      <td>[item, management, discussion, analysis, finan...</td>\n",
       "      <td>Positive</td>\n",
       "    </tr>\n",
       "    <tr>\n",
       "      <th>2</th>\n",
       "      <td>[item, managements, discussion, analysis, fina...</td>\n",
       "      <td>Negative</td>\n",
       "    </tr>\n",
       "    <tr>\n",
       "      <th>3</th>\n",
       "      <td>[item, management, discussion, analysis, finan...</td>\n",
       "      <td>Positive</td>\n",
       "    </tr>\n",
       "    <tr>\n",
       "      <th>4</th>\n",
       "      <td>[item, management, discussion, analysis, finan...</td>\n",
       "      <td>Positive</td>\n",
       "    </tr>\n",
       "  </tbody>\n",
       "</table>\n",
       "</div>"
      ],
      "text/plain": [
       "                                        Largest Text Return Type\n",
       "0  [item, managements, discussion, analysis, fina...    Positive\n",
       "1  [item, management, discussion, analysis, finan...    Positive\n",
       "2  [item, managements, discussion, analysis, fina...    Negative\n",
       "3  [item, management, discussion, analysis, finan...    Positive\n",
       "4  [item, management, discussion, analysis, finan...    Positive"
      ]
     },
     "execution_count": 35,
     "metadata": {},
     "output_type": "execute_result"
    }
   ],
   "source": [
    "def remove_stopwords(words):\n",
    "    new_words = []\n",
    "    for word in words:\n",
    "        if word not in stopwords:\n",
    "            new_words.append(word)\n",
    "    return new_words\n",
    "\n",
    "df[\"Largest Text\"] = df[\"Largest Text\"].apply(lambda x: remove_stopwords(x))\n",
    "\n",
    "df.head()"
   ]
  },
  {
   "cell_type": "markdown",
   "metadata": {},
   "source": [
    "### Lemmatize"
   ]
  },
  {
   "cell_type": "code",
   "execution_count": 36,
   "metadata": {},
   "outputs": [
    {
     "data": {
      "text/html": [
       "<div>\n",
       "<style scoped>\n",
       "    .dataframe tbody tr th:only-of-type {\n",
       "        vertical-align: middle;\n",
       "    }\n",
       "\n",
       "    .dataframe tbody tr th {\n",
       "        vertical-align: top;\n",
       "    }\n",
       "\n",
       "    .dataframe thead th {\n",
       "        text-align: right;\n",
       "    }\n",
       "</style>\n",
       "<table border=\"1\" class=\"dataframe\">\n",
       "  <thead>\n",
       "    <tr style=\"text-align: right;\">\n",
       "      <th></th>\n",
       "      <th>Largest Text</th>\n",
       "      <th>Return Type</th>\n",
       "    </tr>\n",
       "  </thead>\n",
       "  <tbody>\n",
       "    <tr>\n",
       "      <th>0</th>\n",
       "      <td>[item, managements, discussion, analysis, fina...</td>\n",
       "      <td>Positive</td>\n",
       "    </tr>\n",
       "    <tr>\n",
       "      <th>1</th>\n",
       "      <td>[item, management, discussion, analysis, finan...</td>\n",
       "      <td>Positive</td>\n",
       "    </tr>\n",
       "    <tr>\n",
       "      <th>2</th>\n",
       "      <td>[item, managements, discussion, analysis, fina...</td>\n",
       "      <td>Negative</td>\n",
       "    </tr>\n",
       "    <tr>\n",
       "      <th>3</th>\n",
       "      <td>[item, management, discussion, analysis, finan...</td>\n",
       "      <td>Positive</td>\n",
       "    </tr>\n",
       "    <tr>\n",
       "      <th>4</th>\n",
       "      <td>[item, management, discussion, analysis, finan...</td>\n",
       "      <td>Positive</td>\n",
       "    </tr>\n",
       "  </tbody>\n",
       "</table>\n",
       "</div>"
      ],
      "text/plain": [
       "                                        Largest Text Return Type\n",
       "0  [item, managements, discussion, analysis, fina...    Positive\n",
       "1  [item, management, discussion, analysis, finan...    Positive\n",
       "2  [item, managements, discussion, analysis, fina...    Negative\n",
       "3  [item, management, discussion, analysis, finan...    Positive\n",
       "4  [item, management, discussion, analysis, finan...    Positive"
      ]
     },
     "execution_count": 36,
     "metadata": {},
     "output_type": "execute_result"
    }
   ],
   "source": [
    "lemmatizer = WordNetLemmatizer()\n",
    "\n",
    "def lemmatize_list(words):\n",
    "    new_words = []\n",
    "    for word in words:\n",
    "        new_words.append(lemmatizer.lemmatize(word, pos=\"v\"))\n",
    "    return new_words\n",
    "\n",
    "df[\"Largest Text\"] = df[\"Largest Text\"].apply(lambda x: lemmatize_list(x))\n",
    "\n",
    "df.head()"
   ]
  },
  {
   "cell_type": "markdown",
   "metadata": {},
   "source": [
    "### Word List to Text String "
   ]
  },
  {
   "cell_type": "code",
   "execution_count": 37,
   "metadata": {},
   "outputs": [
    {
     "data": {
      "text/html": [
       "<div>\n",
       "<style scoped>\n",
       "    .dataframe tbody tr th:only-of-type {\n",
       "        vertical-align: middle;\n",
       "    }\n",
       "\n",
       "    .dataframe tbody tr th {\n",
       "        vertical-align: top;\n",
       "    }\n",
       "\n",
       "    .dataframe thead th {\n",
       "        text-align: right;\n",
       "    }\n",
       "</style>\n",
       "<table border=\"1\" class=\"dataframe\">\n",
       "  <thead>\n",
       "    <tr style=\"text-align: right;\">\n",
       "      <th></th>\n",
       "      <th>Largest Text</th>\n",
       "      <th>Return Type</th>\n",
       "    </tr>\n",
       "  </thead>\n",
       "  <tbody>\n",
       "    <tr>\n",
       "      <th>0</th>\n",
       "      <td>item managements discussion analysis financial...</td>\n",
       "      <td>Positive</td>\n",
       "    </tr>\n",
       "    <tr>\n",
       "      <th>1</th>\n",
       "      <td>item management discussion analysis financial ...</td>\n",
       "      <td>Positive</td>\n",
       "    </tr>\n",
       "    <tr>\n",
       "      <th>2</th>\n",
       "      <td>item managements discussion analysis financial...</td>\n",
       "      <td>Negative</td>\n",
       "    </tr>\n",
       "    <tr>\n",
       "      <th>3</th>\n",
       "      <td>item management discussion analysis financial ...</td>\n",
       "      <td>Positive</td>\n",
       "    </tr>\n",
       "    <tr>\n",
       "      <th>4</th>\n",
       "      <td>item management discussion analysis financial ...</td>\n",
       "      <td>Positive</td>\n",
       "    </tr>\n",
       "  </tbody>\n",
       "</table>\n",
       "</div>"
      ],
      "text/plain": [
       "                                        Largest Text Return Type\n",
       "0  item managements discussion analysis financial...    Positive\n",
       "1  item management discussion analysis financial ...    Positive\n",
       "2  item managements discussion analysis financial...    Negative\n",
       "3  item management discussion analysis financial ...    Positive\n",
       "4  item management discussion analysis financial ...    Positive"
      ]
     },
     "execution_count": 37,
     "metadata": {},
     "output_type": "execute_result"
    }
   ],
   "source": [
    "def join_words(words):\n",
    "    return \" \".join(words)\n",
    "\n",
    "df[\"Largest Text\"] = df[\"Largest Text\"].apply(lambda x: join_words(x))\n",
    "\n",
    "df.head()"
   ]
  },
  {
   "cell_type": "code",
   "execution_count": 38,
   "metadata": {},
   "outputs": [
    {
     "data": {
      "text/html": [
       "<div>\n",
       "<style scoped>\n",
       "    .dataframe tbody tr th:only-of-type {\n",
       "        vertical-align: middle;\n",
       "    }\n",
       "\n",
       "    .dataframe tbody tr th {\n",
       "        vertical-align: top;\n",
       "    }\n",
       "\n",
       "    .dataframe thead th {\n",
       "        text-align: right;\n",
       "    }\n",
       "</style>\n",
       "<table border=\"1\" class=\"dataframe\">\n",
       "  <thead>\n",
       "    <tr style=\"text-align: right;\">\n",
       "      <th></th>\n",
       "      <th>Largest Text</th>\n",
       "      <th>Return Type</th>\n",
       "    </tr>\n",
       "  </thead>\n",
       "  <tbody>\n",
       "    <tr>\n",
       "      <th>18238</th>\n",
       "      <td>item managements discussion analysis financial...</td>\n",
       "      <td>Negative</td>\n",
       "    </tr>\n",
       "    <tr>\n",
       "      <th>18239</th>\n",
       "      <td>item management discussion analysis financial ...</td>\n",
       "      <td>Negative</td>\n",
       "    </tr>\n",
       "    <tr>\n",
       "      <th>18240</th>\n",
       "      <td>item management discussion analysis result ope...</td>\n",
       "      <td>Positive</td>\n",
       "    </tr>\n",
       "    <tr>\n",
       "      <th>18241</th>\n",
       "      <td>item management discussion analysis financial ...</td>\n",
       "      <td>Negative</td>\n",
       "    </tr>\n",
       "    <tr>\n",
       "      <th>18242</th>\n",
       "      <td>item management discussion analysis financial ...</td>\n",
       "      <td>Positive</td>\n",
       "    </tr>\n",
       "  </tbody>\n",
       "</table>\n",
       "</div>"
      ],
      "text/plain": [
       "                                            Largest Text Return Type\n",
       "18238  item managements discussion analysis financial...    Negative\n",
       "18239  item management discussion analysis financial ...    Negative\n",
       "18240  item management discussion analysis result ope...    Positive\n",
       "18241  item management discussion analysis financial ...    Negative\n",
       "18242  item management discussion analysis financial ...    Positive"
      ]
     },
     "execution_count": 38,
     "metadata": {},
     "output_type": "execute_result"
    }
   ],
   "source": [
    "df.tail()"
   ]
  },
  {
   "cell_type": "code",
   "execution_count": 39,
   "metadata": {},
   "outputs": [
    {
     "data": {
      "text/html": [
       "<div>\n",
       "<style scoped>\n",
       "    .dataframe tbody tr th:only-of-type {\n",
       "        vertical-align: middle;\n",
       "    }\n",
       "\n",
       "    .dataframe tbody tr th {\n",
       "        vertical-align: top;\n",
       "    }\n",
       "\n",
       "    .dataframe thead th {\n",
       "        text-align: right;\n",
       "    }\n",
       "</style>\n",
       "<table border=\"1\" class=\"dataframe\">\n",
       "  <thead>\n",
       "    <tr style=\"text-align: right;\">\n",
       "      <th></th>\n",
       "      <th>Largest Text</th>\n",
       "      <th>Return Type</th>\n",
       "    </tr>\n",
       "  </thead>\n",
       "  <tbody>\n",
       "    <tr>\n",
       "      <th>11808</th>\n",
       "      <td>item management discussion analysis financial ...</td>\n",
       "      <td>Positive</td>\n",
       "    </tr>\n",
       "    <tr>\n",
       "      <th>9155</th>\n",
       "      <td>item managements discussion analysis financial...</td>\n",
       "      <td>Positive</td>\n",
       "    </tr>\n",
       "    <tr>\n",
       "      <th>15013</th>\n",
       "      <td>item managements discussion analysis financial...</td>\n",
       "      <td>Positive</td>\n",
       "    </tr>\n",
       "    <tr>\n",
       "      <th>2597</th>\n",
       "      <td>item management discussion analysis financial ...</td>\n",
       "      <td>Positive</td>\n",
       "    </tr>\n",
       "    <tr>\n",
       "      <th>9643</th>\n",
       "      <td>item management discussion analysis financial ...</td>\n",
       "      <td>Positive</td>\n",
       "    </tr>\n",
       "    <tr>\n",
       "      <th>5385</th>\n",
       "      <td>item managements discussion analysis financial...</td>\n",
       "      <td>Positive</td>\n",
       "    </tr>\n",
       "    <tr>\n",
       "      <th>130</th>\n",
       "      <td>item managements discussion analysis financial...</td>\n",
       "      <td>Positive</td>\n",
       "    </tr>\n",
       "    <tr>\n",
       "      <th>8695</th>\n",
       "      <td>item management discussion analysis financial ...</td>\n",
       "      <td>Positive</td>\n",
       "    </tr>\n",
       "    <tr>\n",
       "      <th>1703</th>\n",
       "      <td>item management discussion analysis financial ...</td>\n",
       "      <td>Positive</td>\n",
       "    </tr>\n",
       "    <tr>\n",
       "      <th>3829</th>\n",
       "      <td>item management discussion analysis financial ...</td>\n",
       "      <td>Positive</td>\n",
       "    </tr>\n",
       "  </tbody>\n",
       "</table>\n",
       "</div>"
      ],
      "text/plain": [
       "                                            Largest Text Return Type\n",
       "11808  item management discussion analysis financial ...    Positive\n",
       "9155   item managements discussion analysis financial...    Positive\n",
       "15013  item managements discussion analysis financial...    Positive\n",
       "2597   item management discussion analysis financial ...    Positive\n",
       "9643   item management discussion analysis financial ...    Positive\n",
       "5385   item managements discussion analysis financial...    Positive\n",
       "130    item managements discussion analysis financial...    Positive\n",
       "8695   item management discussion analysis financial ...    Positive\n",
       "1703   item management discussion analysis financial ...    Positive\n",
       "3829   item management discussion analysis financial ...    Positive"
      ]
     },
     "execution_count": 39,
     "metadata": {},
     "output_type": "execute_result"
    }
   ],
   "source": [
    "np.random.seed(2)\n",
    "df.sample(10)"
   ]
  },
  {
   "cell_type": "markdown",
   "metadata": {},
   "source": [
    "## Encoded \"Return Type\" for different classification algorithms.\n",
    "0 = negative\n",
    "1 = positive "
   ]
  },
  {
   "cell_type": "code",
   "execution_count": 40,
   "metadata": {},
   "outputs": [
    {
     "data": {
      "text/html": [
       "<div>\n",
       "<style scoped>\n",
       "    .dataframe tbody tr th:only-of-type {\n",
       "        vertical-align: middle;\n",
       "    }\n",
       "\n",
       "    .dataframe tbody tr th {\n",
       "        vertical-align: top;\n",
       "    }\n",
       "\n",
       "    .dataframe thead th {\n",
       "        text-align: right;\n",
       "    }\n",
       "</style>\n",
       "<table border=\"1\" class=\"dataframe\">\n",
       "  <thead>\n",
       "    <tr style=\"text-align: right;\">\n",
       "      <th></th>\n",
       "      <th>Largest Text</th>\n",
       "      <th>Return Type</th>\n",
       "    </tr>\n",
       "  </thead>\n",
       "  <tbody>\n",
       "    <tr>\n",
       "      <th>0</th>\n",
       "      <td>item managements discussion analysis financial...</td>\n",
       "      <td>1</td>\n",
       "    </tr>\n",
       "    <tr>\n",
       "      <th>1</th>\n",
       "      <td>item management discussion analysis financial ...</td>\n",
       "      <td>1</td>\n",
       "    </tr>\n",
       "    <tr>\n",
       "      <th>2</th>\n",
       "      <td>item managements discussion analysis financial...</td>\n",
       "      <td>0</td>\n",
       "    </tr>\n",
       "    <tr>\n",
       "      <th>3</th>\n",
       "      <td>item management discussion analysis financial ...</td>\n",
       "      <td>1</td>\n",
       "    </tr>\n",
       "    <tr>\n",
       "      <th>4</th>\n",
       "      <td>item management discussion analysis financial ...</td>\n",
       "      <td>1</td>\n",
       "    </tr>\n",
       "  </tbody>\n",
       "</table>\n",
       "</div>"
      ],
      "text/plain": [
       "                                        Largest Text  Return Type\n",
       "0  item managements discussion analysis financial...            1\n",
       "1  item management discussion analysis financial ...            1\n",
       "2  item managements discussion analysis financial...            0\n",
       "3  item management discussion analysis financial ...            1\n",
       "4  item management discussion analysis financial ...            1"
      ]
     },
     "execution_count": 40,
     "metadata": {},
     "output_type": "execute_result"
    }
   ],
   "source": [
    "df[\"Return Type\"] = df[\"Return Type\"].astype(\"category\")\n",
    "df[\"Return Type\"] = df[\"Return Type\"].cat.codes\n",
    "\n",
    "df.head()"
   ]
  },
  {
   "cell_type": "markdown",
   "metadata": {},
   "source": [
    "## Vectorization"
   ]
  },
  {
   "cell_type": "markdown",
   "metadata": {},
   "source": [
    "### CountVectorizer"
   ]
  },
  {
   "cell_type": "code",
   "execution_count": 41,
   "metadata": {},
   "outputs": [],
   "source": [
    "# Vectorization (Convert text data to numbers).\n",
    "from sklearn.feature_extraction.text import CountVectorizer\n",
    "\n",
    "bow_vec = CountVectorizer(max_features=4000)\n",
    "data_features= bow_vec.fit_transform(df[\"Largest Text\"])\n",
    "\n",
    "data_features = data_features.toarray()"
   ]
  },
  {
   "cell_type": "code",
   "execution_count": 42,
   "metadata": {},
   "outputs": [
    {
     "data": {
      "text/plain": [
       "(18243, 4000)"
      ]
     },
     "execution_count": 42,
     "metadata": {},
     "output_type": "execute_result"
    }
   ],
   "source": [
    "data_features.shape"
   ]
  },
  {
   "cell_type": "code",
   "execution_count": 43,
   "metadata": {},
   "outputs": [],
   "source": [
    "y1 = df[\"Return Type\"]"
   ]
  },
  {
   "cell_type": "code",
   "execution_count": 44,
   "metadata": {},
   "outputs": [],
   "source": [
    "X1 = data_features"
   ]
  },
  {
   "cell_type": "code",
   "execution_count": 45,
   "metadata": {},
   "outputs": [],
   "source": [
    "# Split data into training and testing set.\n",
    "from sklearn.model_selection import train_test_split\n",
    "\n",
    "X1_train, X1_test, y1_train, y1_test = train_test_split(\n",
    "    X1, y1, stratify=y1, test_size=0.25, random_state=42\n",
    ")"
   ]
  },
  {
   "cell_type": "markdown",
   "metadata": {},
   "source": [
    "### TF-IDF"
   ]
  },
  {
   "cell_type": "code",
   "execution_count": 46,
   "metadata": {},
   "outputs": [],
   "source": [
    "# Using TfidfVectorizer to convert text data to numbers.\n",
    "from sklearn.feature_extraction.text import TfidfVectorizer\n",
    "\n",
    "vectorizer = TfidfVectorizer(max_features=4000)\n",
    "tf_data_features = vectorizer.fit_transform(df[\"Largest Text\"])\n",
    "\n",
    "tf_data_features = tf_data_features.toarray()"
   ]
  },
  {
   "cell_type": "code",
   "execution_count": 47,
   "metadata": {},
   "outputs": [
    {
     "data": {
      "text/plain": [
       "(18243, 4000)"
      ]
     },
     "execution_count": 47,
     "metadata": {},
     "output_type": "execute_result"
    }
   ],
   "source": [
    "tf_data_features.shape"
   ]
  },
  {
   "cell_type": "code",
   "execution_count": 48,
   "metadata": {},
   "outputs": [],
   "source": [
    "y2 = df[\"Return Type\"]"
   ]
  },
  {
   "cell_type": "code",
   "execution_count": 49,
   "metadata": {},
   "outputs": [],
   "source": [
    "X2 = tf_data_features"
   ]
  },
  {
   "cell_type": "code",
   "execution_count": 50,
   "metadata": {},
   "outputs": [],
   "source": [
    "# Split data into training and testing set.\n",
    "from sklearn.model_selection import train_test_split\n",
    "\n",
    "X2_train, X2_test, y2_train, y2_test = train_test_split(\n",
    "    X2, y2, stratify=y2, test_size=0.2, random_state=42\n",
    ")"
   ]
  },
  {
   "cell_type": "markdown",
   "metadata": {},
   "source": [
    "#### 1 = CountVectorizer\n",
    "#### 2 = TF-IDF "
   ]
  },
  {
   "cell_type": "markdown",
   "metadata": {},
   "source": [
    "# Models Training"
   ]
  },
  {
   "cell_type": "markdown",
   "metadata": {},
   "source": [
    "## Random Forest on CountVectorizer "
   ]
  },
  {
   "cell_type": "code",
   "execution_count": 51,
   "metadata": {},
   "outputs": [
    {
     "data": {
      "text/plain": [
       "[100, 200, 300]"
      ]
     },
     "execution_count": 51,
     "metadata": {},
     "output_type": "execute_result"
    }
   ],
   "source": [
    "# Finding optimal number of base learners using k-fold CV ->\n",
    "base_ln = np.arange(100, 400, 100).tolist()\n",
    "base_ln"
   ]
  },
  {
   "cell_type": "code",
   "execution_count": 52,
   "metadata": {},
   "outputs": [],
   "source": [
    "# K-Fold Cross - validation .\n",
    "cv_scores = []\n",
    "for b in base_ln:\n",
    "    clf = RandomForestClassifier(n_estimators=b)\n",
    "    scores = cross_val_score(clf, X1_train, y1_train, cv=5, scoring=\"accuracy\")\n",
    "    cv_scores.append(scores.mean())"
   ]
  },
  {
   "cell_type": "code",
   "execution_count": 53,
   "metadata": {
    "scrolled": true
   },
   "outputs": [
    {
     "data": {
      "image/png": "[encoded data removed]",
      "text/plain": [
       "<Figure size 640x480 with 1 Axes>"
      ]
     },
     "metadata": {},
     "output_type": "display_data"
    }
   ],
   "source": [
    "# plotting the error as k increases\n",
    "error = [1 - x for x in cv_scores]\n",
    "optimal_learners = base_ln[error.index(min(error))]  \n",
    "plt.plot(base_ln, error)  \n",
    "xy = (optimal_learners, min(error))\n",
    "plt.annotate(\"(%s, %s)\" % xy, xy=xy, textcoords=\"data\")\n",
    "plt.xlabel(\"Number of base learners\")\n",
    "plt.ylabel(\"Misclassification Error\")\n",
    "plt.show()"
   ]
  },
  {
   "cell_type": "code",
   "execution_count": 63,
   "metadata": {},
   "outputs": [
    {
     "name": "stdout",
     "output_type": "stream",
     "text": [
      "              precision    recall  f1-score   support\n",
      "\n",
      "           0       0.54      0.57      0.55      2291\n",
      "           1       0.54      0.50      0.52      2270\n",
      "\n",
      "    accuracy                           0.54      4561\n",
      "   macro avg       0.54      0.54      0.54      4561\n",
      "weighted avg       0.54      0.54      0.54      4561\n",
      "\n",
      "Accuracy of the model is :  0.5384784038588029\n"
     ]
    }
   ],
   "source": [
    "# Training the best model and calculating accuracy on test data .\n",
    "clf = RandomForestClassifier(n_estimators=optimal_learners)\n",
    "clf.fit(X1_train, y1_train)\n",
    "clf.score(X1_test, y1_test)\n",
    "count_vectorizer_predicted = clf.predict(X1_test)\n",
    "print(classification_report(y1_test, count_vectorizer_predicted, target_names=[\"0\", \"1\"]))\n",
    "print(\"Accuracy of the model is : \", accuracy_score(y1_test, count_vectorizer_predicted))"
   ]
  },
  {
   "cell_type": "code",
   "execution_count": 64,
   "metadata": {},
   "outputs": [
    {
     "data": {
      "image/png": "[encoded data removed]",
      "text/plain": [
       "<Figure size 640x480 with 2 Axes>"
      ]
     },
     "metadata": {},
     "output_type": "display_data"
    }
   ],
   "source": [
    "data_1 = confusion_matrix(y1_test, count_vectorizer_predicted)\n",
    "\n",
    "fig, ax = plt.subplots()\n",
    "cax = ax.matshow(data_1, cmap='Blues')\n",
    "plt.colorbar(cax)\n",
    "\n",
    "for (i, j), val in np.ndenumerate(data_1):\n",
    "    ax.text(j, i, f'{val}', ha='center', va='center', color='black')\n",
    "\n",
    "plt.ylabel('True label')\n",
    "plt.xlabel('Predicted label')\n",
    "plt.title('Confusion Matrix')\n",
    "plt.show()"
   ]
  },
  {
   "cell_type": "code",
   "execution_count": 56,
   "metadata": {},
   "outputs": [
    {
     "data": {
      "text/plain": [
       "['/Users/jamespavlicek/Desktop/QMST/4320/Project Final/random_forest_model_countvectorizer.joblib']"
      ]
     },
     "execution_count": 56,
     "metadata": {},
     "output_type": "execute_result"
    }
   ],
   "source": [
    "#Save the model\n",
    "dump(clf, '/Users/jamespavlicek/Desktop/QMST/4320/Project Final/random_forest_model_countvectorizer.joblib')"
   ]
  },
  {
   "cell_type": "markdown",
   "metadata": {},
   "source": [
    "## Random Forest on TF-IDF"
   ]
  },
  {
   "cell_type": "code",
   "execution_count": 57,
   "metadata": {},
   "outputs": [
    {
     "data": {
      "text/plain": [
       "[100, 200, 300]"
      ]
     },
     "execution_count": 57,
     "metadata": {},
     "output_type": "execute_result"
    }
   ],
   "source": [
    "# Finding optimal number of base learners using k-fold CV ->\n",
    "base_ln = np.arange(100, 400, 100).tolist()\n",
    "base_ln"
   ]
  },
  {
   "cell_type": "code",
   "execution_count": 58,
   "metadata": {},
   "outputs": [],
   "source": [
    "# K-Fold Cross - validation .\n",
    "cv_scores = []\n",
    "for b in base_ln:\n",
    "    clf2 = RandomForestClassifier(n_estimators=b)\n",
    "    scores = cross_val_score(clf2, X2_train, y2_train, cv=5, scoring=\"accuracy\")\n",
    "    cv_scores.append(scores.mean())"
   ]
  },
  {
   "cell_type": "code",
   "execution_count": 59,
   "metadata": {},
   "outputs": [
    {
     "data": {
      "image/png": "[encoded data removed]",
      "text/plain": [
       "<Figure size 640x480 with 1 Axes>"
      ]
     },
     "metadata": {},
     "output_type": "display_data"
    }
   ],
   "source": [
    "# plotting the error as k increases\n",
    "error = [1 - x for x in cv_scores]  # error corresponds to each nu of estimator\n",
    "optimal_learners = base_ln[\n",
    "    error.index(min(error))\n",
    "]  # Selection of optimal nu of n_estimator corresponds to minimum error.\n",
    "plt.plot(\n",
    "    base_ln, error\n",
    ")  # Plot between each nu of estimator and misclassification error\n",
    "xy = (optimal_learners, min(error))\n",
    "plt.annotate(\"(%s, %s)\" % xy, xy=xy, textcoords=\"data\")\n",
    "plt.xlabel(\"Number of base learners\")\n",
    "plt.ylabel(\"Misclassification Error\")\n",
    "plt.show()"
   ]
  },
  {
   "cell_type": "code",
   "execution_count": 60,
   "metadata": {},
   "outputs": [
    {
     "name": "stdout",
     "output_type": "stream",
     "text": [
      "              precision    recall  f1-score   support\n",
      "\n",
      "           0       0.54      0.56      0.55      1833\n",
      "           1       0.54      0.51      0.53      1816\n",
      "\n",
      "    accuracy                           0.54      3649\n",
      "   macro avg       0.54      0.54      0.54      3649\n",
      "weighted avg       0.54      0.54      0.54      3649\n",
      "\n",
      "Accuracy of the model is :  0.5374075089065498\n"
     ]
    }
   ],
   "source": [
    "# Training the best model and calculating accuracy on test data .\n",
    "clf2 = RandomForestClassifier(n_estimators=optimal_learners)\n",
    "clf2.fit(X2_train, y2_train)\n",
    "clf2.score(X2_test, y2_test)\n",
    "tf_idf_predicted = clf2.predict(X2_test)\n",
    "print(classification_report(y2_test, tf_idf_predicted, target_names=[\"0\", \"1\"]))\n",
    "print(\"Accuracy of the model is : \", accuracy_score(y2_test, tf_idf_predicted))"
   ]
  },
  {
   "cell_type": "code",
   "execution_count": 65,
   "metadata": {},
   "outputs": [
    {
     "data": {
      "image/png": "[encoded data removed]",
      "text/plain": [
       "<Figure size 640x480 with 2 Axes>"
      ]
     },
     "metadata": {},
     "output_type": "display_data"
    }
   ],
   "source": [
    "data_2 = confusion_matrix(y2_test, tf_idf_predicted)\n",
    "\n",
    "fig, ax = plt.subplots()\n",
    "cax = ax.matshow(data_2, cmap='Blues')\n",
    "plt.colorbar(cax)\n",
    "\n",
    "for (i, j), val in np.ndenumerate(data_2):\n",
    "    ax.text(j, i, f'{val}', ha='center', va='center', color='black')\n",
    "\n",
    "plt.ylabel('True label')\n",
    "plt.xlabel('Predicted label')\n",
    "plt.title('Confusion Matrix')\n",
    "plt.show()"
   ]
  },
  {
   "cell_type": "code",
   "execution_count": 66,
   "metadata": {},
   "outputs": [
    {
     "data": {
      "text/plain": [
       "['/Users/jamespavlicek/Desktop/QMST/4320/Project Final/random_forest_model_tf_idf.joblib']"
      ]
     },
     "execution_count": 66,
     "metadata": {},
     "output_type": "execute_result"
    }
   ],
   "source": [
    "#Save the model\n",
    "dump(clf2, '/Users/jamespavlicek/Desktop/QMST/4320/Project Final/random_forest_model_tf_idf.joblib')"
   ]
  },
  {
   "cell_type": "markdown",
   "metadata": {},
   "source": [
    "## XGBoost on CountVectorizer "
   ]
  },
  {
   "cell_type": "code",
   "execution_count": 67,
   "metadata": {},
   "outputs": [
    {
     "data": {
      "text/html": [
       "<style>#sk-container-id-1 {color: black;background-color: white;}#sk-container-id-1 pre{padding: 0;}#sk-container-id-1 div.sk-toggleable {background-color: white;}#sk-container-id-1 label.sk-toggleable__label {cursor: pointer;display: block;width: 100%;margin-bottom: 0;padding: 0.3em;box-sizing: border-box;text-align: center;}#sk-container-id-1 label.sk-toggleable__label-arrow:before {content: \"▸\";float: left;margin-right: 0.25em;color: #696969;}#sk-container-id-1 label.sk-toggleable__label-arrow:hover:before {color: black;}#sk-container-id-1 div.sk-estimator:hover label.sk-toggleable__label-arrow:before {color: black;}#sk-container-id-1 div.sk-toggleable__content {max-height: 0;max-width: 0;overflow: hidden;text-align: left;background-color: #f0f8ff;}#sk-container-id-1 div.sk-toggleable__content pre {margin: 0.2em;color: black;border-radius: 0.25em;background-color: #f0f8ff;}#sk-container-id-1 input.sk-toggleable__control:checked~div.sk-toggleable__content {max-height: 200px;max-width: 100%;overflow: auto;}#sk-container-id-1 input.sk-toggleable__control:checked~label.sk-toggleable__label-arrow:before {content: \"▾\";}#sk-container-id-1 div.sk-estimator input.sk-toggleable__control:checked~label.sk-toggleable__label {background-color: #d4ebff;}#sk-container-id-1 div.sk-label input.sk-toggleable__control:checked~label.sk-toggleable__label {background-color: #d4ebff;}#sk-container-id-1 input.sk-hidden--visually {border: 0;clip: rect(1px 1px 1px 1px);clip: rect(1px, 1px, 1px, 1px);height: 1px;margin: -1px;overflow: hidden;padding: 0;position: absolute;width: 1px;}#sk-container-id-1 div.sk-estimator {font-family: monospace;background-color: #f0f8ff;border: 1px dotted black;border-radius: 0.25em;box-sizing: border-box;margin-bottom: 0.5em;}#sk-container-id-1 div.sk-estimator:hover {background-color: #d4ebff;}#sk-container-id-1 div.sk-parallel-item::after {content: \"\";width: 100%;border-bottom: 1px solid gray;flex-grow: 1;}#sk-container-id-1 div.sk-label:hover label.sk-toggleable__label {background-color: #d4ebff;}#sk-container-id-1 div.sk-serial::before {content: \"\";position: absolute;border-left: 1px solid gray;box-sizing: border-box;top: 0;bottom: 0;left: 50%;z-index: 0;}#sk-container-id-1 div.sk-serial {display: flex;flex-direction: column;align-items: center;background-color: white;padding-right: 0.2em;padding-left: 0.2em;position: relative;}#sk-container-id-1 div.sk-item {position: relative;z-index: 1;}#sk-container-id-1 div.sk-parallel {display: flex;align-items: stretch;justify-content: center;background-color: white;position: relative;}#sk-container-id-1 div.sk-item::before, #sk-container-id-1 div.sk-parallel-item::before {content: \"\";position: absolute;border-left: 1px solid gray;box-sizing: border-box;top: 0;bottom: 0;left: 50%;z-index: -1;}#sk-container-id-1 div.sk-parallel-item {display: flex;flex-direction: column;z-index: 1;position: relative;background-color: white;}#sk-container-id-1 div.sk-parallel-item:first-child::after {align-self: flex-end;width: 50%;}#sk-container-id-1 div.sk-parallel-item:last-child::after {align-self: flex-start;width: 50%;}#sk-container-id-1 div.sk-parallel-item:only-child::after {width: 0;}#sk-container-id-1 div.sk-dashed-wrapped {border: 1px dashed gray;margin: 0 0.4em 0.5em 0.4em;box-sizing: border-box;padding-bottom: 0.4em;background-color: white;}#sk-container-id-1 div.sk-label label {font-family: monospace;font-weight: bold;display: inline-block;line-height: 1.2em;}#sk-container-id-1 div.sk-label-container {text-align: center;}#sk-container-id-1 div.sk-container {/* jupyter's `normalize.less` sets `[hidden] { display: none; }` but bootstrap.min.css set `[hidden] { display: none !important; }` so we also need the `!important` here to be able to override the default hidden behavior on the sphinx rendered scikit-learn.org. See: https://github.com/scikit-learn/scikit-learn/issues/21755 */display: inline-block !important;position: relative;}#sk-container-id-1 div.sk-text-repr-fallback {display: none;}</style><div id=\"sk-container-id-1\" class=\"sk-top-container\"><div class=\"sk-text-repr-fallback\"><pre>XGBClassifier(base_score=None, booster=None, callbacks=None,\n",
       "              colsample_bylevel=None, colsample_bynode=None,\n",
       "              colsample_bytree=None, device=None, early_stopping_rounds=None,\n",
       "              enable_categorical=False, eval_metric=&#x27;logloss&#x27;,\n",
       "              feature_types=None, gamma=None, grow_policy=None,\n",
       "              importance_type=None, interaction_constraints=None,\n",
       "              learning_rate=None, max_bin=None, max_cat_threshold=None,\n",
       "              max_cat_to_onehot=None, max_delta_step=None, max_depth=None,\n",
       "              max_leaves=None, min_child_weight=None, missing=nan,\n",
       "              monotone_constraints=None, multi_strategy=None, n_estimators=None,\n",
       "              n_jobs=None, num_parallel_tree=None, random_state=1, ...)</pre><b>In a Jupyter environment, please rerun this cell to show the HTML representation or trust the notebook. <br />On GitHub, the HTML representation is unable to render, please try loading this page with nbviewer.org.</b></div><div class=\"sk-container\" hidden><div class=\"sk-item\"><div class=\"sk-estimator sk-toggleable\"><input class=\"sk-toggleable__control sk-hidden--visually\" id=\"sk-estimator-id-1\" type=\"checkbox\" checked><label for=\"sk-estimator-id-1\" class=\"sk-toggleable__label sk-toggleable__label-arrow\">XGBClassifier</label><div class=\"sk-toggleable__content\"><pre>XGBClassifier(base_score=None, booster=None, callbacks=None,\n",
       "              colsample_bylevel=None, colsample_bynode=None,\n",
       "              colsample_bytree=None, device=None, early_stopping_rounds=None,\n",
       "              enable_categorical=False, eval_metric=&#x27;logloss&#x27;,\n",
       "              feature_types=None, gamma=None, grow_policy=None,\n",
       "              importance_type=None, interaction_constraints=None,\n",
       "              learning_rate=None, max_bin=None, max_cat_threshold=None,\n",
       "              max_cat_to_onehot=None, max_delta_step=None, max_depth=None,\n",
       "              max_leaves=None, min_child_weight=None, missing=nan,\n",
       "              monotone_constraints=None, multi_strategy=None, n_estimators=None,\n",
       "              n_jobs=None, num_parallel_tree=None, random_state=1, ...)</pre></div></div></div></div></div>"
      ],
      "text/plain": [
       "XGBClassifier(base_score=None, booster=None, callbacks=None,\n",
       "              colsample_bylevel=None, colsample_bynode=None,\n",
       "              colsample_bytree=None, device=None, early_stopping_rounds=None,\n",
       "              enable_categorical=False, eval_metric='logloss',\n",
       "              feature_types=None, gamma=None, grow_policy=None,\n",
       "              importance_type=None, interaction_constraints=None,\n",
       "              learning_rate=None, max_bin=None, max_cat_threshold=None,\n",
       "              max_cat_to_onehot=None, max_delta_step=None, max_depth=None,\n",
       "              max_leaves=None, min_child_weight=None, missing=nan,\n",
       "              monotone_constraints=None, multi_strategy=None, n_estimators=None,\n",
       "              n_jobs=None, num_parallel_tree=None, random_state=1, ...)"
      ]
     },
     "execution_count": 67,
     "metadata": {},
     "output_type": "execute_result"
    }
   ],
   "source": [
    "# XGBoost\n",
    "from xgboost import XGBClassifier\n",
    "\n",
    "xgb1 = XGBClassifier(random_state=1, eval_metric=\"logloss\")\n",
    "xgb1.fit(X1_train, y1_train)"
   ]
  },
  {
   "cell_type": "code",
   "execution_count": 68,
   "metadata": {},
   "outputs": [
    {
     "data": {
      "text/plain": [
       "(13682, 4000)"
      ]
     },
     "execution_count": 68,
     "metadata": {},
     "output_type": "execute_result"
    }
   ],
   "source": [
    "X1_train.shape"
   ]
  },
  {
   "cell_type": "code",
   "execution_count": 69,
   "metadata": {},
   "outputs": [
    {
     "name": "stdout",
     "output_type": "stream",
     "text": [
      "              precision    recall  f1-score   support\n",
      "\n",
      "           0       0.98      0.98      0.98      6871\n",
      "           1       0.98      0.98      0.98      6811\n",
      "\n",
      "    accuracy                           0.98     13682\n",
      "   macro avg       0.98      0.98      0.98     13682\n",
      "weighted avg       0.98      0.98      0.98     13682\n",
      "\n",
      "Accuracy of the model is :  0.9783657360035083\n"
     ]
    }
   ],
   "source": [
    "xgb1_predicted = xgb1.predict(X1_train)\n",
    "print(classification_report(y1_train, xgb1_predicted, target_names=[\"0\", \"1\"]))\n",
    "print(\"Accuracy of the model is : \", accuracy_score(y1_train, xgb1_predicted))"
   ]
  },
  {
   "cell_type": "code",
   "execution_count": 70,
   "metadata": {},
   "outputs": [
    {
     "name": "stdout",
     "output_type": "stream",
     "text": [
      "              precision    recall  f1-score   support\n",
      "\n",
      "           0       0.55      0.55      0.55      2291\n",
      "           1       0.54      0.54      0.54      2270\n",
      "\n",
      "    accuracy                           0.55      4561\n",
      "   macro avg       0.55      0.55      0.55      4561\n",
      "weighted avg       0.55      0.55      0.55      4561\n",
      "\n",
      "Accuracy of the model is :  0.5457136592852445\n"
     ]
    }
   ],
   "source": [
    "xgb1_predicted_test = xgb1.predict(X1_test)\n",
    "print(classification_report(y1_test, xgb1_predicted_test, target_names=[\"0\", \"1\"]))\n",
    "print(\"Accuracy of the model is : \", accuracy_score(y1_test, xgb1_predicted_test))"
   ]
  },
  {
   "cell_type": "code",
   "execution_count": 73,
   "metadata": {},
   "outputs": [
    {
     "data": {
      "image/png": "[encoded data removed]",
      "text/plain": [
       "<Figure size 640x480 with 2 Axes>"
      ]
     },
     "metadata": {},
     "output_type": "display_data"
    }
   ],
   "source": [
    "data_3 = confusion_matrix(y1_test, xgb1_predicted_test)\n",
    "\n",
    "fig, ax = plt.subplots()\n",
    "cax = ax.matshow(data_3, cmap='Blues')\n",
    "plt.colorbar(cax)\n",
    "\n",
    "for (i, j), val in np.ndenumerate(data_3):\n",
    "    ax.text(j, i, f'{val}', ha='center', va='center', color='black')\n",
    "\n",
    "plt.ylabel('True label')\n",
    "plt.xlabel('Predicted label')\n",
    "plt.title('Confusion Matrix')\n",
    "plt.show()"
   ]
  },
  {
   "cell_type": "code",
   "execution_count": 74,
   "metadata": {},
   "outputs": [
    {
     "data": {
      "text/plain": [
       "['/Users/jamespavlicek/Desktop/QMST/4320/Project Final/XGBoost_model_countvectorizer.joblib']"
      ]
     },
     "execution_count": 74,
     "metadata": {},
     "output_type": "execute_result"
    }
   ],
   "source": [
    "#Save the model\n",
    "dump(xgb1, '/Users/jamespavlicek/Desktop/QMST/4320/Project Final/XGBoost_model_countvectorizer.joblib')"
   ]
  },
  {
   "cell_type": "markdown",
   "metadata": {},
   "source": [
    "## XGBoost on TF-IDF"
   ]
  },
  {
   "cell_type": "code",
   "execution_count": 75,
   "metadata": {},
   "outputs": [
    {
     "data": {
      "text/html": [
       "<style>#sk-container-id-2 {color: black;background-color: white;}#sk-container-id-2 pre{padding: 0;}#sk-container-id-2 div.sk-toggleable {background-color: white;}#sk-container-id-2 label.sk-toggleable__label {cursor: pointer;display: block;width: 100%;margin-bottom: 0;padding: 0.3em;box-sizing: border-box;text-align: center;}#sk-container-id-2 label.sk-toggleable__label-arrow:before {content: \"▸\";float: left;margin-right: 0.25em;color: #696969;}#sk-container-id-2 label.sk-toggleable__label-arrow:hover:before {color: black;}#sk-container-id-2 div.sk-estimator:hover label.sk-toggleable__label-arrow:before {color: black;}#sk-container-id-2 div.sk-toggleable__content {max-height: 0;max-width: 0;overflow: hidden;text-align: left;background-color: #f0f8ff;}#sk-container-id-2 div.sk-toggleable__content pre {margin: 0.2em;color: black;border-radius: 0.25em;background-color: #f0f8ff;}#sk-container-id-2 input.sk-toggleable__control:checked~div.sk-toggleable__content {max-height: 200px;max-width: 100%;overflow: auto;}#sk-container-id-2 input.sk-toggleable__control:checked~label.sk-toggleable__label-arrow:before {content: \"▾\";}#sk-container-id-2 div.sk-estimator input.sk-toggleable__control:checked~label.sk-toggleable__label {background-color: #d4ebff;}#sk-container-id-2 div.sk-label input.sk-toggleable__control:checked~label.sk-toggleable__label {background-color: #d4ebff;}#sk-container-id-2 input.sk-hidden--visually {border: 0;clip: rect(1px 1px 1px 1px);clip: rect(1px, 1px, 1px, 1px);height: 1px;margin: -1px;overflow: hidden;padding: 0;position: absolute;width: 1px;}#sk-container-id-2 div.sk-estimator {font-family: monospace;background-color: #f0f8ff;border: 1px dotted black;border-radius: 0.25em;box-sizing: border-box;margin-bottom: 0.5em;}#sk-container-id-2 div.sk-estimator:hover {background-color: #d4ebff;}#sk-container-id-2 div.sk-parallel-item::after {content: \"\";width: 100%;border-bottom: 1px solid gray;flex-grow: 1;}#sk-container-id-2 div.sk-label:hover label.sk-toggleable__label {background-color: #d4ebff;}#sk-container-id-2 div.sk-serial::before {content: \"\";position: absolute;border-left: 1px solid gray;box-sizing: border-box;top: 0;bottom: 0;left: 50%;z-index: 0;}#sk-container-id-2 div.sk-serial {display: flex;flex-direction: column;align-items: center;background-color: white;padding-right: 0.2em;padding-left: 0.2em;position: relative;}#sk-container-id-2 div.sk-item {position: relative;z-index: 1;}#sk-container-id-2 div.sk-parallel {display: flex;align-items: stretch;justify-content: center;background-color: white;position: relative;}#sk-container-id-2 div.sk-item::before, #sk-container-id-2 div.sk-parallel-item::before {content: \"\";position: absolute;border-left: 1px solid gray;box-sizing: border-box;top: 0;bottom: 0;left: 50%;z-index: -1;}#sk-container-id-2 div.sk-parallel-item {display: flex;flex-direction: column;z-index: 1;position: relative;background-color: white;}#sk-container-id-2 div.sk-parallel-item:first-child::after {align-self: flex-end;width: 50%;}#sk-container-id-2 div.sk-parallel-item:last-child::after {align-self: flex-start;width: 50%;}#sk-container-id-2 div.sk-parallel-item:only-child::after {width: 0;}#sk-container-id-2 div.sk-dashed-wrapped {border: 1px dashed gray;margin: 0 0.4em 0.5em 0.4em;box-sizing: border-box;padding-bottom: 0.4em;background-color: white;}#sk-container-id-2 div.sk-label label {font-family: monospace;font-weight: bold;display: inline-block;line-height: 1.2em;}#sk-container-id-2 div.sk-label-container {text-align: center;}#sk-container-id-2 div.sk-container {/* jupyter's `normalize.less` sets `[hidden] { display: none; }` but bootstrap.min.css set `[hidden] { display: none !important; }` so we also need the `!important` here to be able to override the default hidden behavior on the sphinx rendered scikit-learn.org. See: https://github.com/scikit-learn/scikit-learn/issues/21755 */display: inline-block !important;position: relative;}#sk-container-id-2 div.sk-text-repr-fallback {display: none;}</style><div id=\"sk-container-id-2\" class=\"sk-top-container\"><div class=\"sk-text-repr-fallback\"><pre>XGBClassifier(base_score=None, booster=None, callbacks=None,\n",
       "              colsample_bylevel=None, colsample_bynode=None,\n",
       "              colsample_bytree=None, device=None, early_stopping_rounds=None,\n",
       "              enable_categorical=False, eval_metric=&#x27;logloss&#x27;,\n",
       "              feature_types=None, gamma=None, grow_policy=None,\n",
       "              importance_type=None, interaction_constraints=None,\n",
       "              learning_rate=None, max_bin=None, max_cat_threshold=None,\n",
       "              max_cat_to_onehot=None, max_delta_step=None, max_depth=None,\n",
       "              max_leaves=None, min_child_weight=None, missing=nan,\n",
       "              monotone_constraints=None, multi_strategy=None, n_estimators=None,\n",
       "              n_jobs=None, num_parallel_tree=None, random_state=1, ...)</pre><b>In a Jupyter environment, please rerun this cell to show the HTML representation or trust the notebook. <br />On GitHub, the HTML representation is unable to render, please try loading this page with nbviewer.org.</b></div><div class=\"sk-container\" hidden><div class=\"sk-item\"><div class=\"sk-estimator sk-toggleable\"><input class=\"sk-toggleable__control sk-hidden--visually\" id=\"sk-estimator-id-2\" type=\"checkbox\" checked><label for=\"sk-estimator-id-2\" class=\"sk-toggleable__label sk-toggleable__label-arrow\">XGBClassifier</label><div class=\"sk-toggleable__content\"><pre>XGBClassifier(base_score=None, booster=None, callbacks=None,\n",
       "              colsample_bylevel=None, colsample_bynode=None,\n",
       "              colsample_bytree=None, device=None, early_stopping_rounds=None,\n",
       "              enable_categorical=False, eval_metric=&#x27;logloss&#x27;,\n",
       "              feature_types=None, gamma=None, grow_policy=None,\n",
       "              importance_type=None, interaction_constraints=None,\n",
       "              learning_rate=None, max_bin=None, max_cat_threshold=None,\n",
       "              max_cat_to_onehot=None, max_delta_step=None, max_depth=None,\n",
       "              max_leaves=None, min_child_weight=None, missing=nan,\n",
       "              monotone_constraints=None, multi_strategy=None, n_estimators=None,\n",
       "              n_jobs=None, num_parallel_tree=None, random_state=1, ...)</pre></div></div></div></div></div>"
      ],
      "text/plain": [
       "XGBClassifier(base_score=None, booster=None, callbacks=None,\n",
       "              colsample_bylevel=None, colsample_bynode=None,\n",
       "              colsample_bytree=None, device=None, early_stopping_rounds=None,\n",
       "              enable_categorical=False, eval_metric='logloss',\n",
       "              feature_types=None, gamma=None, grow_policy=None,\n",
       "              importance_type=None, interaction_constraints=None,\n",
       "              learning_rate=None, max_bin=None, max_cat_threshold=None,\n",
       "              max_cat_to_onehot=None, max_delta_step=None, max_depth=None,\n",
       "              max_leaves=None, min_child_weight=None, missing=nan,\n",
       "              monotone_constraints=None, multi_strategy=None, n_estimators=None,\n",
       "              n_jobs=None, num_parallel_tree=None, random_state=1, ...)"
      ]
     },
     "execution_count": 75,
     "metadata": {},
     "output_type": "execute_result"
    }
   ],
   "source": [
    "xgb2 = XGBClassifier(random_state=1, eval_metric=\"logloss\")\n",
    "xgb2.fit(X2_train, y2_train)"
   ]
  },
  {
   "cell_type": "code",
   "execution_count": 76,
   "metadata": {},
   "outputs": [
    {
     "name": "stdout",
     "output_type": "stream",
     "text": [
      "              precision    recall  f1-score   support\n",
      "\n",
      "           0       0.99      0.99      0.99      7329\n",
      "           1       0.99      0.99      0.99      7265\n",
      "\n",
      "    accuracy                           0.99     14594\n",
      "   macro avg       0.99      0.99      0.99     14594\n",
      "weighted avg       0.99      0.99      0.99     14594\n",
      "\n",
      "Accuracy of the model is :  0.9877346854871866\n"
     ]
    }
   ],
   "source": [
    "xgb2_predicted = xgb2.predict(X2_train)\n",
    "print(classification_report(y2_train, xgb2_predicted, target_names=[\"0\", \"1\"]))\n",
    "print(\"Accuracy of the model is : \", accuracy_score(y2_train, xgb2_predicted))"
   ]
  },
  {
   "cell_type": "code",
   "execution_count": 77,
   "metadata": {},
   "outputs": [
    {
     "name": "stdout",
     "output_type": "stream",
     "text": [
      "              precision    recall  f1-score   support\n",
      "\n",
      "           0       0.53      0.53      0.53      1833\n",
      "           1       0.53      0.53      0.53      1816\n",
      "\n",
      "    accuracy                           0.53      3649\n",
      "   macro avg       0.53      0.53      0.53      3649\n",
      "weighted avg       0.53      0.53      0.53      3649\n",
      "\n",
      "Accuracy of the model is :  0.5313784598520143\n"
     ]
    }
   ],
   "source": [
    "xgb2_predicted_test = xgb2.predict(X2_test)\n",
    "print(classification_report(y2_test, xgb2_predicted_test, target_names=[\"0\", \"1\"]))\n",
    "print(\"Accuracy of the model is : \", accuracy_score(y2_test, xgb2_predicted_test))"
   ]
  },
  {
   "cell_type": "code",
   "execution_count": 78,
   "metadata": {},
   "outputs": [
    {
     "data": {
      "image/png": "[encoded data removed]",
      "text/plain": [
       "<Figure size 640x480 with 2 Axes>"
      ]
     },
     "metadata": {},
     "output_type": "display_data"
    }
   ],
   "source": [
    "data_4 = confusion_matrix(y2_test, xgb2_predicted_test)\n",
    "\n",
    "fig, ax = plt.subplots()\n",
    "cax = ax.matshow(data_4, cmap='Blues')\n",
    "plt.colorbar(cax)\n",
    "\n",
    "for (i, j), val in np.ndenumerate(data_4):\n",
    "    ax.text(j, i, f'{val}', ha='center', va='center', color='black')\n",
    "\n",
    "plt.ylabel('True label')\n",
    "plt.xlabel('Predicted label')\n",
    "plt.title('Confusion Matrix')\n",
    "plt.show()"
   ]
  },
  {
   "cell_type": "code",
   "execution_count": 79,
   "metadata": {},
   "outputs": [
    {
     "data": {
      "text/plain": [
       "['/Users/jamespavlicek/Desktop/QMST/4320/Project Final/XGBoost_model_tf_idf.joblib']"
      ]
     },
     "execution_count": 79,
     "metadata": {},
     "output_type": "execute_result"
    }
   ],
   "source": [
    "#Save the model\n",
    "dump(xgb2, '/Users/jamespavlicek/Desktop/QMST/4320/Project Final/XGBoost_model_tf_idf.joblib')"
   ]
  },
  {
   "cell_type": "markdown",
   "metadata": {},
   "source": [
    "## Naive Bayes on CountVectorizer"
   ]
  },
  {
   "cell_type": "code",
   "execution_count": 80,
   "metadata": {},
   "outputs": [
    {
     "data": {
      "text/html": [
       "<style>#sk-container-id-3 {color: black;background-color: white;}#sk-container-id-3 pre{padding: 0;}#sk-container-id-3 div.sk-toggleable {background-color: white;}#sk-container-id-3 label.sk-toggleable__label {cursor: pointer;display: block;width: 100%;margin-bottom: 0;padding: 0.3em;box-sizing: border-box;text-align: center;}#sk-container-id-3 label.sk-toggleable__label-arrow:before {content: \"▸\";float: left;margin-right: 0.25em;color: #696969;}#sk-container-id-3 label.sk-toggleable__label-arrow:hover:before {color: black;}#sk-container-id-3 div.sk-estimator:hover label.sk-toggleable__label-arrow:before {color: black;}#sk-container-id-3 div.sk-toggleable__content {max-height: 0;max-width: 0;overflow: hidden;text-align: left;background-color: #f0f8ff;}#sk-container-id-3 div.sk-toggleable__content pre {margin: 0.2em;color: black;border-radius: 0.25em;background-color: #f0f8ff;}#sk-container-id-3 input.sk-toggleable__control:checked~div.sk-toggleable__content {max-height: 200px;max-width: 100%;overflow: auto;}#sk-container-id-3 input.sk-toggleable__control:checked~label.sk-toggleable__label-arrow:before {content: \"▾\";}#sk-container-id-3 div.sk-estimator input.sk-toggleable__control:checked~label.sk-toggleable__label {background-color: #d4ebff;}#sk-container-id-3 div.sk-label input.sk-toggleable__control:checked~label.sk-toggleable__label {background-color: #d4ebff;}#sk-container-id-3 input.sk-hidden--visually {border: 0;clip: rect(1px 1px 1px 1px);clip: rect(1px, 1px, 1px, 1px);height: 1px;margin: -1px;overflow: hidden;padding: 0;position: absolute;width: 1px;}#sk-container-id-3 div.sk-estimator {font-family: monospace;background-color: #f0f8ff;border: 1px dotted black;border-radius: 0.25em;box-sizing: border-box;margin-bottom: 0.5em;}#sk-container-id-3 div.sk-estimator:hover {background-color: #d4ebff;}#sk-container-id-3 div.sk-parallel-item::after {content: \"\";width: 100%;border-bottom: 1px solid gray;flex-grow: 1;}#sk-container-id-3 div.sk-label:hover label.sk-toggleable__label {background-color: #d4ebff;}#sk-container-id-3 div.sk-serial::before {content: \"\";position: absolute;border-left: 1px solid gray;box-sizing: border-box;top: 0;bottom: 0;left: 50%;z-index: 0;}#sk-container-id-3 div.sk-serial {display: flex;flex-direction: column;align-items: center;background-color: white;padding-right: 0.2em;padding-left: 0.2em;position: relative;}#sk-container-id-3 div.sk-item {position: relative;z-index: 1;}#sk-container-id-3 div.sk-parallel {display: flex;align-items: stretch;justify-content: center;background-color: white;position: relative;}#sk-container-id-3 div.sk-item::before, #sk-container-id-3 div.sk-parallel-item::before {content: \"\";position: absolute;border-left: 1px solid gray;box-sizing: border-box;top: 0;bottom: 0;left: 50%;z-index: -1;}#sk-container-id-3 div.sk-parallel-item {display: flex;flex-direction: column;z-index: 1;position: relative;background-color: white;}#sk-container-id-3 div.sk-parallel-item:first-child::after {align-self: flex-end;width: 50%;}#sk-container-id-3 div.sk-parallel-item:last-child::after {align-self: flex-start;width: 50%;}#sk-container-id-3 div.sk-parallel-item:only-child::after {width: 0;}#sk-container-id-3 div.sk-dashed-wrapped {border: 1px dashed gray;margin: 0 0.4em 0.5em 0.4em;box-sizing: border-box;padding-bottom: 0.4em;background-color: white;}#sk-container-id-3 div.sk-label label {font-family: monospace;font-weight: bold;display: inline-block;line-height: 1.2em;}#sk-container-id-3 div.sk-label-container {text-align: center;}#sk-container-id-3 div.sk-container {/* jupyter's `normalize.less` sets `[hidden] { display: none; }` but bootstrap.min.css set `[hidden] { display: none !important; }` so we also need the `!important` here to be able to override the default hidden behavior on the sphinx rendered scikit-learn.org. See: https://github.com/scikit-learn/scikit-learn/issues/21755 */display: inline-block !important;position: relative;}#sk-container-id-3 div.sk-text-repr-fallback {display: none;}</style><div id=\"sk-container-id-3\" class=\"sk-top-container\"><div class=\"sk-text-repr-fallback\"><pre>MultinomialNB()</pre><b>In a Jupyter environment, please rerun this cell to show the HTML representation or trust the notebook. <br />On GitHub, the HTML representation is unable to render, please try loading this page with nbviewer.org.</b></div><div class=\"sk-container\" hidden><div class=\"sk-item\"><div class=\"sk-estimator sk-toggleable\"><input class=\"sk-toggleable__control sk-hidden--visually\" id=\"sk-estimator-id-3\" type=\"checkbox\" checked><label for=\"sk-estimator-id-3\" class=\"sk-toggleable__label sk-toggleable__label-arrow\">MultinomialNB</label><div class=\"sk-toggleable__content\"><pre>MultinomialNB()</pre></div></div></div></div></div>"
      ],
      "text/plain": [
       "MultinomialNB()"
      ]
     },
     "execution_count": 80,
     "metadata": {},
     "output_type": "execute_result"
    }
   ],
   "source": [
    "from sklearn.naive_bayes import MultinomialNB\n",
    "\n",
    "NB = MultinomialNB()\n",
    "NB.fit(X1_train, y1_train)"
   ]
  },
  {
   "cell_type": "code",
   "execution_count": 81,
   "metadata": {},
   "outputs": [
    {
     "name": "stdout",
     "output_type": "stream",
     "text": [
      "              precision    recall  f1-score   support\n",
      "\n",
      "           0       0.56      0.51      0.53      6871\n",
      "           1       0.55      0.60      0.57      6811\n",
      "\n",
      "    accuracy                           0.55     13682\n",
      "   macro avg       0.55      0.55      0.55     13682\n",
      "weighted avg       0.55      0.55      0.55     13682\n",
      "\n",
      "Accuracy of the model is :  0.5536471276129221\n"
     ]
    }
   ],
   "source": [
    "NB_predicted = NB.predict(X1_train)\n",
    "print(classification_report(y1_train, NB_predicted, target_names=[\"0\", \"1\"]))\n",
    "print(\"Accuracy of the model is : \", accuracy_score(y1_train, NB_predicted))"
   ]
  },
  {
   "cell_type": "code",
   "execution_count": 82,
   "metadata": {},
   "outputs": [
    {
     "name": "stdout",
     "output_type": "stream",
     "text": [
      "              precision    recall  f1-score   support\n",
      "\n",
      "           0       0.54      0.48      0.51      2291\n",
      "           1       0.53      0.59      0.56      2270\n",
      "\n",
      "    accuracy                           0.54      4561\n",
      "   macro avg       0.54      0.54      0.54      4561\n",
      "weighted avg       0.54      0.54      0.54      4561\n",
      "\n",
      "Accuracy of the model is :  0.5369436527077396\n"
     ]
    }
   ],
   "source": [
    "NB_predicted_test = NB.predict(X1_test)\n",
    "print(classification_report(y1_test, NB_predicted_test, target_names=[\"0\", \"1\"]))\n",
    "print(\"Accuracy of the model is : \", accuracy_score(y1_test, NB_predicted_test))"
   ]
  },
  {
   "cell_type": "code",
   "execution_count": 83,
   "metadata": {
    "scrolled": true
   },
   "outputs": [
    {
     "data": {
      "image/png": "[encoded data removed]",
      "text/plain": [
       "<Figure size 640x480 with 2 Axes>"
      ]
     },
     "metadata": {},
     "output_type": "display_data"
    }
   ],
   "source": [
    "data_5 = confusion_matrix(y1_test, NB_predicted_test)\n",
    "\n",
    "fig, ax = plt.subplots()\n",
    "cax = ax.matshow(data_5, cmap='Blues')\n",
    "plt.colorbar(cax)\n",
    "\n",
    "for (i, j), val in np.ndenumerate(data_5):\n",
    "    ax.text(j, i, f'{val}', ha='center', va='center', color='black')\n",
    "\n",
    "plt.ylabel('True label')\n",
    "plt.xlabel('Predicted label')\n",
    "plt.title('Confusion Matrix')\n",
    "plt.show()"
   ]
  },
  {
   "cell_type": "code",
   "execution_count": 84,
   "metadata": {},
   "outputs": [
    {
     "data": {
      "text/plain": [
       "['/Users/jamespavlicek/Desktop/QMST/4320/Project Final/naive_bayes_model_countvectorizer.joblib']"
      ]
     },
     "execution_count": 84,
     "metadata": {},
     "output_type": "execute_result"
    }
   ],
   "source": [
    "#Save the model\n",
    "dump(NB, '/Users/jamespavlicek/Desktop/QMST/4320/Project Final/naive_bayes_model_countvectorizer.joblib')"
   ]
  },
  {
   "cell_type": "markdown",
   "metadata": {},
   "source": [
    "## Naive Bayes on TF-IDF"
   ]
  },
  {
   "cell_type": "code",
   "execution_count": 85,
   "metadata": {},
   "outputs": [
    {
     "data": {
      "text/html": [
       "<style>#sk-container-id-4 {color: black;background-color: white;}#sk-container-id-4 pre{padding: 0;}#sk-container-id-4 div.sk-toggleable {background-color: white;}#sk-container-id-4 label.sk-toggleable__label {cursor: pointer;display: block;width: 100%;margin-bottom: 0;padding: 0.3em;box-sizing: border-box;text-align: center;}#sk-container-id-4 label.sk-toggleable__label-arrow:before {content: \"▸\";float: left;margin-right: 0.25em;color: #696969;}#sk-container-id-4 label.sk-toggleable__label-arrow:hover:before {color: black;}#sk-container-id-4 div.sk-estimator:hover label.sk-toggleable__label-arrow:before {color: black;}#sk-container-id-4 div.sk-toggleable__content {max-height: 0;max-width: 0;overflow: hidden;text-align: left;background-color: #f0f8ff;}#sk-container-id-4 div.sk-toggleable__content pre {margin: 0.2em;color: black;border-radius: 0.25em;background-color: #f0f8ff;}#sk-container-id-4 input.sk-toggleable__control:checked~div.sk-toggleable__content {max-height: 200px;max-width: 100%;overflow: auto;}#sk-container-id-4 input.sk-toggleable__control:checked~label.sk-toggleable__label-arrow:before {content: \"▾\";}#sk-container-id-4 div.sk-estimator input.sk-toggleable__control:checked~label.sk-toggleable__label {background-color: #d4ebff;}#sk-container-id-4 div.sk-label input.sk-toggleable__control:checked~label.sk-toggleable__label {background-color: #d4ebff;}#sk-container-id-4 input.sk-hidden--visually {border: 0;clip: rect(1px 1px 1px 1px);clip: rect(1px, 1px, 1px, 1px);height: 1px;margin: -1px;overflow: hidden;padding: 0;position: absolute;width: 1px;}#sk-container-id-4 div.sk-estimator {font-family: monospace;background-color: #f0f8ff;border: 1px dotted black;border-radius: 0.25em;box-sizing: border-box;margin-bottom: 0.5em;}#sk-container-id-4 div.sk-estimator:hover {background-color: #d4ebff;}#sk-container-id-4 div.sk-parallel-item::after {content: \"\";width: 100%;border-bottom: 1px solid gray;flex-grow: 1;}#sk-container-id-4 div.sk-label:hover label.sk-toggleable__label {background-color: #d4ebff;}#sk-container-id-4 div.sk-serial::before {content: \"\";position: absolute;border-left: 1px solid gray;box-sizing: border-box;top: 0;bottom: 0;left: 50%;z-index: 0;}#sk-container-id-4 div.sk-serial {display: flex;flex-direction: column;align-items: center;background-color: white;padding-right: 0.2em;padding-left: 0.2em;position: relative;}#sk-container-id-4 div.sk-item {position: relative;z-index: 1;}#sk-container-id-4 div.sk-parallel {display: flex;align-items: stretch;justify-content: center;background-color: white;position: relative;}#sk-container-id-4 div.sk-item::before, #sk-container-id-4 div.sk-parallel-item::before {content: \"\";position: absolute;border-left: 1px solid gray;box-sizing: border-box;top: 0;bottom: 0;left: 50%;z-index: -1;}#sk-container-id-4 div.sk-parallel-item {display: flex;flex-direction: column;z-index: 1;position: relative;background-color: white;}#sk-container-id-4 div.sk-parallel-item:first-child::after {align-self: flex-end;width: 50%;}#sk-container-id-4 div.sk-parallel-item:last-child::after {align-self: flex-start;width: 50%;}#sk-container-id-4 div.sk-parallel-item:only-child::after {width: 0;}#sk-container-id-4 div.sk-dashed-wrapped {border: 1px dashed gray;margin: 0 0.4em 0.5em 0.4em;box-sizing: border-box;padding-bottom: 0.4em;background-color: white;}#sk-container-id-4 div.sk-label label {font-family: monospace;font-weight: bold;display: inline-block;line-height: 1.2em;}#sk-container-id-4 div.sk-label-container {text-align: center;}#sk-container-id-4 div.sk-container {/* jupyter's `normalize.less` sets `[hidden] { display: none; }` but bootstrap.min.css set `[hidden] { display: none !important; }` so we also need the `!important` here to be able to override the default hidden behavior on the sphinx rendered scikit-learn.org. See: https://github.com/scikit-learn/scikit-learn/issues/21755 */display: inline-block !important;position: relative;}#sk-container-id-4 div.sk-text-repr-fallback {display: none;}</style><div id=\"sk-container-id-4\" class=\"sk-top-container\"><div class=\"sk-text-repr-fallback\"><pre>MultinomialNB()</pre><b>In a Jupyter environment, please rerun this cell to show the HTML representation or trust the notebook. <br />On GitHub, the HTML representation is unable to render, please try loading this page with nbviewer.org.</b></div><div class=\"sk-container\" hidden><div class=\"sk-item\"><div class=\"sk-estimator sk-toggleable\"><input class=\"sk-toggleable__control sk-hidden--visually\" id=\"sk-estimator-id-4\" type=\"checkbox\" checked><label for=\"sk-estimator-id-4\" class=\"sk-toggleable__label sk-toggleable__label-arrow\">MultinomialNB</label><div class=\"sk-toggleable__content\"><pre>MultinomialNB()</pre></div></div></div></div></div>"
      ],
      "text/plain": [
       "MultinomialNB()"
      ]
     },
     "execution_count": 85,
     "metadata": {},
     "output_type": "execute_result"
    }
   ],
   "source": [
    "NB2 = MultinomialNB()\n",
    "NB2.fit(X2_train, y2_train)"
   ]
  },
  {
   "cell_type": "code",
   "execution_count": 86,
   "metadata": {},
   "outputs": [
    {
     "name": "stdout",
     "output_type": "stream",
     "text": [
      "              precision    recall  f1-score   support\n",
      "\n",
      "           0       0.57      0.56      0.56      7329\n",
      "           1       0.56      0.57      0.57      7265\n",
      "\n",
      "    accuracy                           0.56     14594\n",
      "   macro avg       0.56      0.56      0.56     14594\n",
      "weighted avg       0.56      0.56      0.56     14594\n",
      "\n",
      "Accuracy of the model is :  0.5635877757982732\n"
     ]
    }
   ],
   "source": [
    "NB2_predicted = NB2.predict(X2_train)\n",
    "print(classification_report(y2_train, NB2_predicted, target_names=[\"0\", \"1\"]))\n",
    "print(\"Accuracy of the model is : \", accuracy_score(y2_train, NB2_predicted))"
   ]
  },
  {
   "cell_type": "code",
   "execution_count": 87,
   "metadata": {},
   "outputs": [
    {
     "name": "stdout",
     "output_type": "stream",
     "text": [
      "              precision    recall  f1-score   support\n",
      "\n",
      "           0       0.54      0.53      0.53      1833\n",
      "           1       0.53      0.54      0.54      1816\n",
      "\n",
      "    accuracy                           0.54      3649\n",
      "   macro avg       0.54      0.54      0.54      3649\n",
      "weighted avg       0.54      0.54      0.54      3649\n",
      "\n",
      "Accuracy of the model is :  0.5368594135379556\n"
     ]
    }
   ],
   "source": [
    "NB2_predicted_test = NB2.predict(X2_test)\n",
    "print(classification_report(y2_test, NB2_predicted_test, target_names=[\"0\", \"1\"]))\n",
    "print(\"Accuracy of the model is : \", accuracy_score(y2_test, NB2_predicted_test))"
   ]
  },
  {
   "cell_type": "code",
   "execution_count": 88,
   "metadata": {},
   "outputs": [
    {
     "data": {
      "image/png": "[encoded data removed]",
      "text/plain": [
       "<Figure size 640x480 with 2 Axes>"
      ]
     },
     "metadata": {},
     "output_type": "display_data"
    }
   ],
   "source": [
    "data_5 = confusion_matrix(y2_test, NB2_predicted_test)\n",
    "\n",
    "fig, ax = plt.subplots()\n",
    "cax = ax.matshow(data_5, cmap='Blues')\n",
    "plt.colorbar(cax)\n",
    "\n",
    "for (i, j), val in np.ndenumerate(data_5):\n",
    "    ax.text(j, i, f'{val}', ha='center', va='center', color='black')\n",
    "\n",
    "plt.ylabel('True label')\n",
    "plt.xlabel('Predicted label')\n",
    "plt.title('Confusion Matrix')\n",
    "plt.show()"
   ]
  },
  {
   "cell_type": "code",
   "execution_count": 89,
   "metadata": {},
   "outputs": [
    {
     "data": {
      "text/plain": [
       "(14594, 4000)"
      ]
     },
     "execution_count": 89,
     "metadata": {},
     "output_type": "execute_result"
    }
   ],
   "source": [
    "X2_train.shape"
   ]
  },
  {
   "cell_type": "code",
   "execution_count": 90,
   "metadata": {},
   "outputs": [
    {
     "data": {
      "text/plain": [
       "['/Users/jamespavlicek/Desktop/QMST/4320/Project Final/naive_bayes_model_tf_idf.joblib']"
      ]
     },
     "execution_count": 90,
     "metadata": {},
     "output_type": "execute_result"
    }
   ],
   "source": [
    "#Save the model\n",
    "dump(NB2, '/Users/jamespavlicek/Desktop/QMST/4320/Project Final/naive_bayes_model_tf_idf.joblib')"
   ]
  },
  {
   "cell_type": "code",
   "execution_count": 91,
   "metadata": {},
   "outputs": [
    {
     "name": "stdout",
     "output_type": "stream",
     "text": [
      "Return Type\n",
      "0    9162\n",
      "1    9081\n",
      "Name: count, dtype: int64\n"
     ]
    }
   ],
   "source": [
    "frequency = df[\"Return Type\"].value_counts()\n",
    "\n",
    "print(frequency)"
   ]
  },
  {
   "cell_type": "code",
   "execution_count": 92,
   "metadata": {},
   "outputs": [
    {
     "name": "stdout",
     "output_type": "stream",
     "text": [
      "0.5022200296003947\n"
     ]
    }
   ],
   "source": [
    "no_information_rate = 9162/18243\n",
    "\n",
    "print(no_information_rate)"
   ]
  }
 ],
 "metadata": {
  "kernelspec": {
   "display_name": "Python 3 (ipykernel)",
   "language": "python",
   "name": "python3"
  },
  "language_info": {
   "codemirror_mode": {
    "name": "ipython",
    "version": 3
   },
   "file_extension": ".py",
   "mimetype": "text/x-python",
   "name": "python",
   "nbconvert_exporter": "python",
   "pygments_lexer": "ipython3",
   "version": "3.11.7"
  }
 },
 "nbformat": 4,
 "nbformat_minor": 4
}
